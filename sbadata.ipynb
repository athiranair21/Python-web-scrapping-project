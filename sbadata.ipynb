{
 "cells": [
  {
   "cell_type": "markdown",
   "metadata": {},
   "source": [
    "Copyright (c) Microsoft Corporation. All rights reserved."
   ]
  },
  {
   "cell_type": "markdown",
   "metadata": {},
   "source": [
    "![Impressions](https://PixelServer20190423114238.azurewebsites.net/api/impressions/NotebookVM/tutorials/regression-part2-automated-ml.png)"
   ]
  },
  {
   "cell_type": "markdown",
   "metadata": {},
   "source": [
    "# Tutorial: Use automated machine learning to predict taxi fares"
   ]
  },
  {
   "cell_type": "markdown",
   "metadata": {},
   "source": [
    "In this tutorial, you use automated machine learning in Azure Machine Learning service to create a regression model to predict NYC taxi fare prices. This process accepts training data and configuration settings, and automatically iterates through combinations of different feature normalization/standardization methods, models, and hyperparameter settings to arrive at the best model.\n",
    "\n",
    "In this tutorial you learn the following tasks:\n",
    "\n",
    "* Download, transform, and clean data using Azure Open Datasets\n",
    "* Train an automated machine learning regression model\n",
    "* Calculate model accuracy\n",
    "\n",
    "If you donâ€™t have an Azure subscription, create a free account before you begin. Try the [free or paid version](https://aka.ms/AMLFree) of Azure Machine Learning service today."
   ]
  },
  {
   "cell_type": "markdown",
   "metadata": {},
   "source": [
    "## Prerequisites"
   ]
  },
  {
   "cell_type": "markdown",
   "metadata": {},
   "source": [
    "* Complete the [setup tutorial](https://docs.microsoft.com/azure/machine-learning/service/tutorial-1st-experiment-sdk-setup) if you don't already have an Azure Machine Learning service workspace or notebook virtual machine.\n",
    "* After you complete the setup tutorial, open the **tutorials/regression-automated-ml.ipynb** notebook using the same notebook server.\n",
    "\n",
    "This tutorial is also available on [GitHub](https://github.com/Azure/MachineLearningNotebooks/tree/master/tutorials) if you wish to run it in your own [local environment](https://github.com/Azure/MachineLearningNotebooks/blob/master/how-to-use-azureml/automated-machine-learning/README.md#setup-using-a-local-conda-environment)."
   ]
  },
  {
   "cell_type": "markdown",
   "metadata": {},
   "source": [
    "## Download and prepare data"
   ]
  },
  {
   "cell_type": "markdown",
   "metadata": {},
   "source": [
    "Import the necessary packages. The Open Datasets package contains a class representing each data source (`NycTlcGreen` for example) to easily filter date parameters before downloading."
   ]
  },
  {
   "cell_type": "code",
   "execution_count": 1,
   "metadata": {
    "gather": {
     "logged": 1611240395716
    }
   },
   "outputs": [],
   "source": [
    "import pandas as pd\n",
    "from azureml.core import Dataset\n",
    "from datetime import datetime\n",
    "from dateutil.relativedelta import relativedelta"
   ]
  },
  {
   "cell_type": "code",
   "execution_count": 2,
   "metadata": {
    "gather": {
     "logged": 1611240398958
    }
   },
   "outputs": [],
   "source": [
    "import numpy as np"
   ]
  },
  {
   "cell_type": "code",
   "execution_count": 3,
   "metadata": {},
   "outputs": [
    {
     "name": "stdout",
     "output_type": "stream",
     "text": [
      "Requirement already up-to-date: azureml-sdk in /anaconda/envs/azureml_py36/lib/python3.6/site-packages (1.20.0)\n",
      "Requirement already up-to-date: azureml-widgets in /anaconda/envs/azureml_py36/lib/python3.6/site-packages (1.20.0)\n",
      "Requirement already satisfied, skipping upgrade: azureml-train-automl-client~=1.20.0 in /anaconda/envs/azureml_py36/lib/python3.6/site-packages (from azureml-sdk) (1.20.0)\n",
      "Requirement already satisfied, skipping upgrade: azureml-dataset-runtime[fuse]~=1.20.0 in /anaconda/envs/azureml_py36/lib/python3.6/site-packages (from azureml-sdk) (1.20.0)\n",
      "Requirement already satisfied, skipping upgrade: azureml-core~=1.20.0 in /anaconda/envs/azureml_py36/lib/python3.6/site-packages (from azureml-sdk) (1.20.0)\n",
      "Requirement already satisfied, skipping upgrade: azureml-pipeline~=1.20.0 in /anaconda/envs/azureml_py36/lib/python3.6/site-packages (from azureml-sdk) (1.20.0)\n",
      "Requirement already satisfied, skipping upgrade: azureml-train~=1.20.0 in /anaconda/envs/azureml_py36/lib/python3.6/site-packages (from azureml-sdk) (1.20.0)\n",
      "Requirement already satisfied, skipping upgrade: ipywidgets>=7.0.0 in /anaconda/envs/azureml_py36/lib/python3.6/site-packages (from azureml-widgets) (7.5.1)\n",
      "Requirement already satisfied, skipping upgrade: azureml-telemetry~=1.20.0 in /anaconda/envs/azureml_py36/lib/python3.6/site-packages (from azureml-widgets) (1.20.0)\n",
      "Requirement already satisfied, skipping upgrade: azureml-automl-core~=1.20.0 in /anaconda/envs/azureml_py36/lib/python3.6/site-packages (from azureml-train-automl-client~=1.20.0->azureml-sdk) (1.20.0)\n",
      "Requirement already satisfied, skipping upgrade: azureml-dataprep<2.8.0a,>=2.7.0a in /anaconda/envs/azureml_py36/lib/python3.6/site-packages (from azureml-dataset-runtime[fuse]~=1.20.0->azureml-sdk) (2.7.1)\n",
      "Requirement already satisfied, skipping upgrade: numpy!=1.19.3; sys_platform == \"linux\" in /anaconda/envs/azureml_py36/lib/python3.6/site-packages (from azureml-dataset-runtime[fuse]~=1.20.0->azureml-sdk) (1.18.5)\n",
      "Requirement already satisfied, skipping upgrade: pyarrow<2.0.0,>=0.17.0 in /anaconda/envs/azureml_py36/lib/python3.6/site-packages (from azureml-dataset-runtime[fuse]~=1.20.0->azureml-sdk) (1.0.1)\n",
      "Requirement already satisfied, skipping upgrade: fusepy<4.0.0,>=3.0.1; extra == \"fuse\" in /anaconda/envs/azureml_py36/lib/python3.6/site-packages (from azureml-dataset-runtime[fuse]~=1.20.0->azureml-sdk) (3.0.1)\n",
      "Requirement already satisfied, skipping upgrade: azure-common>=1.1.12 in /anaconda/envs/azureml_py36/lib/python3.6/site-packages (from azureml-core~=1.20.0->azureml-sdk) (1.1.26)\n",
      "Requirement already satisfied, skipping upgrade: azure-mgmt-authorization<1.0.0,>=0.40.0 in /anaconda/envs/azureml_py36/lib/python3.6/site-packages (from azureml-core~=1.20.0->azureml-sdk) (0.61.0)\n",
      "Requirement already satisfied, skipping upgrade: backports.tempfile in /anaconda/envs/azureml_py36/lib/python3.6/site-packages (from azureml-core~=1.20.0->azureml-sdk) (1.0)\n",
      "Requirement already satisfied, skipping upgrade: pyopenssl<20.0.0 in /anaconda/envs/azureml_py36/lib/python3.6/site-packages (from azureml-core~=1.20.0->azureml-sdk) (19.1.0)\n",
      "Requirement already satisfied, skipping upgrade: ruamel.yaml>=0.15.35 in /anaconda/envs/azureml_py36/lib/python3.6/site-packages (from azureml-core~=1.20.0->azureml-sdk) (0.16.12)\n",
      "Requirement already satisfied, skipping upgrade: azure-mgmt-keyvault<7.0.0,>=0.40.0 in /anaconda/envs/azureml_py36/lib/python3.6/site-packages (from azureml-core~=1.20.0->azureml-sdk) (2.2.0)\n",
      "Requirement already satisfied, skipping upgrade: PyJWT<2.0.0 in /anaconda/envs/azureml_py36/lib/python3.6/site-packages (from azureml-core~=1.20.0->azureml-sdk) (1.7.1)\n",
      "Requirement already satisfied, skipping upgrade: msrest>=0.5.1 in /anaconda/envs/azureml_py36/lib/python3.6/site-packages (from azureml-core~=1.20.0->azureml-sdk) (0.6.19)\n",
      "Requirement already satisfied, skipping upgrade: jmespath in /anaconda/envs/azureml_py36/lib/python3.6/site-packages (from azureml-core~=1.20.0->azureml-sdk) (0.10.0)\n",
      "Requirement already satisfied, skipping upgrade: SecretStorage in /anaconda/envs/azureml_py36/lib/python3.6/site-packages (from azureml-core~=1.20.0->azureml-sdk) (3.3.0)\n",
      "Requirement already satisfied, skipping upgrade: docker in /anaconda/envs/azureml_py36/lib/python3.6/site-packages (from azureml-core~=1.20.0->azureml-sdk) (4.4.0)\n",
      "Requirement already satisfied, skipping upgrade: jsonpickle in /anaconda/envs/azureml_py36/lib/python3.6/site-packages (from azureml-core~=1.20.0->azureml-sdk) (1.4.2)\n",
      "Requirement already satisfied, skipping upgrade: azure-graphrbac<1.0.0,>=0.40.0 in /anaconda/envs/azureml_py36/lib/python3.6/site-packages (from azureml-core~=1.20.0->azureml-sdk) (0.61.1)\n",
      "Requirement already satisfied, skipping upgrade: python-dateutil>=2.7.3 in /anaconda/envs/azureml_py36/lib/python3.6/site-packages (from azureml-core~=1.20.0->azureml-sdk) (2.8.1)\n",
      "Requirement already satisfied, skipping upgrade: azure-mgmt-resource<15.0.0,>=1.2.1 in /anaconda/envs/azureml_py36/lib/python3.6/site-packages (from azureml-core~=1.20.0->azureml-sdk) (10.3.0)\n",
      "Requirement already satisfied, skipping upgrade: pathspec in /anaconda/envs/azureml_py36/lib/python3.6/site-packages (from azureml-core~=1.20.0->azureml-sdk) (0.8.1)\n",
      "Requirement already satisfied, skipping upgrade: urllib3>=1.23 in /anaconda/envs/azureml_py36/lib/python3.6/site-packages (from azureml-core~=1.20.0->azureml-sdk) (1.25.11)\n",
      "Requirement already satisfied, skipping upgrade: azure-mgmt-containerregistry>=2.0.0 in /anaconda/envs/azureml_py36/lib/python3.6/site-packages (from azureml-core~=1.20.0->azureml-sdk) (2.8.0)\n",
      "Requirement already satisfied, skipping upgrade: requests>=2.19.1 in /anaconda/envs/azureml_py36/lib/python3.6/site-packages (from azureml-core~=1.20.0->azureml-sdk) (2.25.0)\n",
      "Requirement already satisfied, skipping upgrade: contextlib2 in /anaconda/envs/azureml_py36/lib/python3.6/site-packages (from azureml-core~=1.20.0->azureml-sdk) (0.6.0.post1)\n",
      "Requirement already satisfied, skipping upgrade: ndg-httpsclient in /anaconda/envs/azureml_py36/lib/python3.6/site-packages (from azureml-core~=1.20.0->azureml-sdk) (0.5.1)\n",
      "Requirement already satisfied, skipping upgrade: msrestazure>=0.4.33 in /anaconda/envs/azureml_py36/lib/python3.6/site-packages (from azureml-core~=1.20.0->azureml-sdk) (0.6.4)\n",
      "Requirement already satisfied, skipping upgrade: adal>=1.2.0 in /anaconda/envs/azureml_py36/lib/python3.6/site-packages (from azureml-core~=1.20.0->azureml-sdk) (1.2.5)\n",
      "Requirement already satisfied, skipping upgrade: azure-mgmt-storage<16.0.0,>=1.5.0 in /anaconda/envs/azureml_py36/lib/python3.6/site-packages (from azureml-core~=1.20.0->azureml-sdk) (11.2.0)\n",
      "Requirement already satisfied, skipping upgrade: cryptography!=1.9,!=2.0.*,!=2.1.*,!=2.2.* in /anaconda/envs/azureml_py36/lib/python3.6/site-packages (from azureml-core~=1.20.0->azureml-sdk) (3.2.1)\n",
      "Requirement already satisfied, skipping upgrade: pytz in /anaconda/envs/azureml_py36/lib/python3.6/site-packages (from azureml-core~=1.20.0->azureml-sdk) (2020.4)\n",
      "Requirement already satisfied, skipping upgrade: azureml-pipeline-core~=1.20.0 in /anaconda/envs/azureml_py36/lib/python3.6/site-packages (from azureml-pipeline~=1.20.0->azureml-sdk) (1.20.0)\n",
      "Requirement already satisfied, skipping upgrade: azureml-pipeline-steps~=1.20.0 in /anaconda/envs/azureml_py36/lib/python3.6/site-packages (from azureml-pipeline~=1.20.0->azureml-sdk) (1.20.0)\n",
      "Requirement already satisfied, skipping upgrade: azureml-train-core~=1.20.0 in /anaconda/envs/azureml_py36/lib/python3.6/site-packages (from azureml-train~=1.20.0->azureml-sdk) (1.20.0)\n",
      "Requirement already satisfied, skipping upgrade: ipykernel>=4.5.1 in /anaconda/envs/azureml_py36/lib/python3.6/site-packages (from ipywidgets>=7.0.0->azureml-widgets) (5.3.4)\n",
      "Requirement already satisfied, skipping upgrade: widgetsnbextension~=3.5.0 in /anaconda/envs/azureml_py36/lib/python3.6/site-packages (from ipywidgets>=7.0.0->azureml-widgets) (3.5.1)\n",
      "Requirement already satisfied, skipping upgrade: traitlets>=4.3.1 in /anaconda/envs/azureml_py36/lib/python3.6/site-packages (from ipywidgets>=7.0.0->azureml-widgets) (4.3.3)\n",
      "Requirement already satisfied, skipping upgrade: nbformat>=4.2.0 in /anaconda/envs/azureml_py36/lib/python3.6/site-packages (from ipywidgets>=7.0.0->azureml-widgets) (5.0.8)\n",
      "Requirement already satisfied, skipping upgrade: ipython>=4.0.0; python_version >= \"3.3\" in /anaconda/envs/azureml_py36/lib/python3.6/site-packages (from ipywidgets>=7.0.0->azureml-widgets) (7.16.1)\n",
      "Requirement already satisfied, skipping upgrade: applicationinsights in /anaconda/envs/azureml_py36/lib/python3.6/site-packages (from azureml-telemetry~=1.20.0->azureml-widgets) (0.11.9)\n",
      "Requirement already satisfied, skipping upgrade: cloudpickle<2.0.0,>=1.1.0 in /anaconda/envs/azureml_py36/lib/python3.6/site-packages (from azureml-dataprep<2.8.0a,>=2.7.0a->azureml-dataset-runtime[fuse]~=1.20.0->azureml-sdk) (1.6.0)\n",
      "Requirement already satisfied, skipping upgrade: azureml-dataprep-rslex<1.6.0a,>=1.5.0dev0 in /anaconda/envs/azureml_py36/lib/python3.6/site-packages (from azureml-dataprep<2.8.0a,>=2.7.0a->azureml-dataset-runtime[fuse]~=1.20.0->azureml-sdk) (1.5.0)\n",
      "Requirement already satisfied, skipping upgrade: azureml-dataprep-native<28.0.0,>=27.0.0 in /anaconda/envs/azureml_py36/lib/python3.6/site-packages (from azureml-dataprep<2.8.0a,>=2.7.0a->azureml-dataset-runtime[fuse]~=1.20.0->azureml-sdk) (27.0.0)\n",
      "Requirement already satisfied, skipping upgrade: azure-identity<1.5.0,>=1.2.0 in /anaconda/envs/azureml_py36/lib/python3.6/site-packages (from azureml-dataprep<2.8.0a,>=2.7.0a->azureml-dataset-runtime[fuse]~=1.20.0->azureml-sdk) (1.4.1)\n",
      "Requirement already satisfied, skipping upgrade: dotnetcore2<3.0.0,>=2.1.14 in /anaconda/envs/azureml_py36/lib/python3.6/site-packages (from azureml-dataprep<2.8.0a,>=2.7.0a->azureml-dataset-runtime[fuse]~=1.20.0->azureml-sdk) (2.1.19)\n",
      "Requirement already satisfied, skipping upgrade: backports.weakref in /anaconda/envs/azureml_py36/lib/python3.6/site-packages (from backports.tempfile->azureml-core~=1.20.0->azureml-sdk) (1.0.post1)\n",
      "Requirement already satisfied, skipping upgrade: six>=1.5.2 in /anaconda/envs/azureml_py36/lib/python3.6/site-packages (from pyopenssl<20.0.0->azureml-core~=1.20.0->azureml-sdk) (1.15.0)\n",
      "Requirement already satisfied, skipping upgrade: ruamel.yaml.clib>=0.1.2; platform_python_implementation == \"CPython\" and python_version < \"3.9\" in /anaconda/envs/azureml_py36/lib/python3.6/site-packages (from ruamel.yaml>=0.15.35->azureml-core~=1.20.0->azureml-sdk) (0.2.2)\n",
      "Requirement already satisfied, skipping upgrade: certifi>=2017.4.17 in /anaconda/envs/azureml_py36/lib/python3.6/site-packages (from msrest>=0.5.1->azureml-core~=1.20.0->azureml-sdk) (2020.11.8)\n",
      "Requirement already satisfied, skipping upgrade: requests-oauthlib>=0.5.0 in /anaconda/envs/azureml_py36/lib/python3.6/site-packages (from msrest>=0.5.1->azureml-core~=1.20.0->azureml-sdk) (1.3.0)\n",
      "Requirement already satisfied, skipping upgrade: isodate>=0.6.0 in /anaconda/envs/azureml_py36/lib/python3.6/site-packages (from msrest>=0.5.1->azureml-core~=1.20.0->azureml-sdk) (0.6.0)\n",
      "Requirement already satisfied, skipping upgrade: jeepney>=0.6 in /anaconda/envs/azureml_py36/lib/python3.6/site-packages (from SecretStorage->azureml-core~=1.20.0->azureml-sdk) (0.6.0)\n",
      "Requirement already satisfied, skipping upgrade: websocket-client>=0.32.0 in /anaconda/envs/azureml_py36/lib/python3.6/site-packages (from docker->azureml-core~=1.20.0->azureml-sdk) (0.57.0)\n",
      "Requirement already satisfied, skipping upgrade: importlib-metadata; python_version < \"3.8\" in /anaconda/envs/azureml_py36/lib/python3.6/site-packages (from jsonpickle->azureml-core~=1.20.0->azureml-sdk) (3.1.1)\n",
      "Requirement already satisfied, skipping upgrade: idna<3,>=2.5 in /anaconda/envs/azureml_py36/lib/python3.6/site-packages (from requests>=2.19.1->azureml-core~=1.20.0->azureml-sdk) (2.10)\n",
      "Requirement already satisfied, skipping upgrade: chardet<4,>=3.0.2 in /anaconda/envs/azureml_py36/lib/python3.6/site-packages (from requests>=2.19.1->azureml-core~=1.20.0->azureml-sdk) (3.0.4)\n",
      "Requirement already satisfied, skipping upgrade: pyasn1>=0.1.1 in /anaconda/envs/azureml_py36/lib/python3.6/site-packages (from ndg-httpsclient->azureml-core~=1.20.0->azureml-sdk) (0.4.8)\n",
      "Requirement already satisfied, skipping upgrade: cffi!=1.11.3,>=1.8 in /anaconda/envs/azureml_py36/lib/python3.6/site-packages (from cryptography!=1.9,!=2.0.*,!=2.1.*,!=2.2.*->azureml-core~=1.20.0->azureml-sdk) (1.14.4)\n",
      "Requirement already satisfied, skipping upgrade: azureml-train-restclients-hyperdrive~=1.20.0 in /anaconda/envs/azureml_py36/lib/python3.6/site-packages (from azureml-train-core~=1.20.0->azureml-train~=1.20.0->azureml-sdk) (1.20.0)\n",
      "Requirement already satisfied, skipping upgrade: jupyter-client in /anaconda/envs/azureml_py36/lib/python3.6/site-packages (from ipykernel>=4.5.1->ipywidgets>=7.0.0->azureml-widgets) (6.1.7)\n",
      "Requirement already satisfied, skipping upgrade: tornado>=4.2 in /anaconda/envs/azureml_py36/lib/python3.6/site-packages (from ipykernel>=4.5.1->ipywidgets>=7.0.0->azureml-widgets) (6.1)\n",
      "Requirement already satisfied, skipping upgrade: notebook>=4.4.1 in /anaconda/envs/azureml_py36/lib/python3.6/site-packages (from widgetsnbextension~=3.5.0->ipywidgets>=7.0.0->azureml-widgets) (6.1.5)\n",
      "Requirement already satisfied, skipping upgrade: decorator in /anaconda/envs/azureml_py36/lib/python3.6/site-packages (from traitlets>=4.3.1->ipywidgets>=7.0.0->azureml-widgets) (4.4.2)\n",
      "Requirement already satisfied, skipping upgrade: ipython-genutils in /anaconda/envs/azureml_py36/lib/python3.6/site-packages (from traitlets>=4.3.1->ipywidgets>=7.0.0->azureml-widgets) (0.2.0)\n",
      "Requirement already satisfied, skipping upgrade: jupyter-core in /anaconda/envs/azureml_py36/lib/python3.6/site-packages (from nbformat>=4.2.0->ipywidgets>=7.0.0->azureml-widgets) (4.7.0)\n",
      "Requirement already satisfied, skipping upgrade: jsonschema!=2.5.0,>=2.4 in /anaconda/envs/azureml_py36/lib/python3.6/site-packages (from nbformat>=4.2.0->ipywidgets>=7.0.0->azureml-widgets) (3.2.0)\n",
      "Requirement already satisfied, skipping upgrade: pygments in /anaconda/envs/azureml_py36/lib/python3.6/site-packages (from ipython>=4.0.0; python_version >= \"3.3\"->ipywidgets>=7.0.0->azureml-widgets) (2.7.3)\n",
      "Requirement already satisfied, skipping upgrade: pickleshare in /anaconda/envs/azureml_py36/lib/python3.6/site-packages (from ipython>=4.0.0; python_version >= \"3.3\"->ipywidgets>=7.0.0->azureml-widgets) (0.7.5)\n",
      "Requirement already satisfied, skipping upgrade: jedi>=0.10 in /anaconda/envs/azureml_py36/lib/python3.6/site-packages (from ipython>=4.0.0; python_version >= \"3.3\"->ipywidgets>=7.0.0->azureml-widgets) (0.17.2)\n",
      "Requirement already satisfied, skipping upgrade: backcall in /anaconda/envs/azureml_py36/lib/python3.6/site-packages (from ipython>=4.0.0; python_version >= \"3.3\"->ipywidgets>=7.0.0->azureml-widgets) (0.2.0)\n",
      "Requirement already satisfied, skipping upgrade: setuptools>=18.5 in /anaconda/envs/azureml_py36/lib/python3.6/site-packages (from ipython>=4.0.0; python_version >= \"3.3\"->ipywidgets>=7.0.0->azureml-widgets) (50.3.0.post20201006)\n",
      "Requirement already satisfied, skipping upgrade: prompt-toolkit!=3.0.0,!=3.0.1,<3.1.0,>=2.0.0 in /anaconda/envs/azureml_py36/lib/python3.6/site-packages (from ipython>=4.0.0; python_version >= \"3.3\"->ipywidgets>=7.0.0->azureml-widgets) (3.0.8)\n",
      "Requirement already satisfied, skipping upgrade: pexpect; sys_platform != \"win32\" in /anaconda/envs/azureml_py36/lib/python3.6/site-packages (from ipython>=4.0.0; python_version >= \"3.3\"->ipywidgets>=7.0.0->azureml-widgets) (4.8.0)\n",
      "Requirement already satisfied, skipping upgrade: msal-extensions~=0.2.2 in /anaconda/envs/azureml_py36/lib/python3.6/site-packages (from azure-identity<1.5.0,>=1.2.0->azureml-dataprep<2.8.0a,>=2.7.0a->azureml-dataset-runtime[fuse]~=1.20.0->azureml-sdk) (0.2.2)\n",
      "Requirement already satisfied, skipping upgrade: msal<2.0.0,>=1.3.0 in /anaconda/envs/azureml_py36/lib/python3.6/site-packages (from azure-identity<1.5.0,>=1.2.0->azureml-dataprep<2.8.0a,>=2.7.0a->azureml-dataset-runtime[fuse]~=1.20.0->azureml-sdk) (1.6.0)\n",
      "Requirement already satisfied, skipping upgrade: azure-core<2.0.0,>=1.0.0 in /anaconda/envs/azureml_py36/lib/python3.6/site-packages (from azure-identity<1.5.0,>=1.2.0->azureml-dataprep<2.8.0a,>=2.7.0a->azureml-dataset-runtime[fuse]~=1.20.0->azureml-sdk) (1.9.0)\n",
      "Requirement already satisfied, skipping upgrade: distro>=1.2.0 in /anaconda/envs/azureml_py36/lib/python3.6/site-packages (from dotnetcore2<3.0.0,>=2.1.14->azureml-dataprep<2.8.0a,>=2.7.0a->azureml-dataset-runtime[fuse]~=1.20.0->azureml-sdk) (1.5.0)\n",
      "Requirement already satisfied, skipping upgrade: oauthlib>=3.0.0 in /anaconda/envs/azureml_py36/lib/python3.6/site-packages (from requests-oauthlib>=0.5.0->msrest>=0.5.1->azureml-core~=1.20.0->azureml-sdk) (3.1.0)\n",
      "Requirement already satisfied, skipping upgrade: zipp>=0.5 in /anaconda/envs/azureml_py36/lib/python3.6/site-packages (from importlib-metadata; python_version < \"3.8\"->jsonpickle->azureml-core~=1.20.0->azureml-sdk) (3.4.0)\n",
      "Requirement already satisfied, skipping upgrade: pycparser in /anaconda/envs/azureml_py36/lib/python3.6/site-packages (from cffi!=1.11.3,>=1.8->cryptography!=1.9,!=2.0.*,!=2.1.*,!=2.2.*->azureml-core~=1.20.0->azureml-sdk) (2.20)\n",
      "Requirement already satisfied, skipping upgrade: pyzmq>=13 in /anaconda/envs/azureml_py36/lib/python3.6/site-packages (from jupyter-client->ipykernel>=4.5.1->ipywidgets>=7.0.0->azureml-widgets) (20.0.0)\n",
      "Requirement already satisfied, skipping upgrade: jinja2 in /anaconda/envs/azureml_py36/lib/python3.6/site-packages (from notebook>=4.4.1->widgetsnbextension~=3.5.0->ipywidgets>=7.0.0->azureml-widgets) (2.11.2)\n",
      "Requirement already satisfied, skipping upgrade: nbconvert in /anaconda/envs/azureml_py36/lib/python3.6/site-packages (from notebook>=4.4.1->widgetsnbextension~=3.5.0->ipywidgets>=7.0.0->azureml-widgets) (5.6.1)\n",
      "Requirement already satisfied, skipping upgrade: terminado>=0.8.3 in /anaconda/envs/azureml_py36/lib/python3.6/site-packages (from notebook>=4.4.1->widgetsnbextension~=3.5.0->ipywidgets>=7.0.0->azureml-widgets) (0.9.1)\n",
      "Requirement already satisfied, skipping upgrade: prometheus-client in /anaconda/envs/azureml_py36/lib/python3.6/site-packages (from notebook>=4.4.1->widgetsnbextension~=3.5.0->ipywidgets>=7.0.0->azureml-widgets) (0.9.0)\n",
      "Requirement already satisfied, skipping upgrade: Send2Trash in /anaconda/envs/azureml_py36/lib/python3.6/site-packages (from notebook>=4.4.1->widgetsnbextension~=3.5.0->ipywidgets>=7.0.0->azureml-widgets) (1.5.0)\n",
      "Requirement already satisfied, skipping upgrade: argon2-cffi in /anaconda/envs/azureml_py36/lib/python3.6/site-packages (from notebook>=4.4.1->widgetsnbextension~=3.5.0->ipywidgets>=7.0.0->azureml-widgets) (20.1.0)\n",
      "Requirement already satisfied, skipping upgrade: attrs>=17.4.0 in /anaconda/envs/azureml_py36/lib/python3.6/site-packages (from jsonschema!=2.5.0,>=2.4->nbformat>=4.2.0->ipywidgets>=7.0.0->azureml-widgets) (20.3.0)\n",
      "Requirement already satisfied, skipping upgrade: pyrsistent>=0.14.0 in /anaconda/envs/azureml_py36/lib/python3.6/site-packages (from jsonschema!=2.5.0,>=2.4->nbformat>=4.2.0->ipywidgets>=7.0.0->azureml-widgets) (0.17.3)\n",
      "Requirement already satisfied, skipping upgrade: parso<0.8.0,>=0.7.0 in /anaconda/envs/azureml_py36/lib/python3.6/site-packages (from jedi>=0.10->ipython>=4.0.0; python_version >= \"3.3\"->ipywidgets>=7.0.0->azureml-widgets) (0.7.1)\n",
      "Requirement already satisfied, skipping upgrade: wcwidth in /anaconda/envs/azureml_py36/lib/python3.6/site-packages (from prompt-toolkit!=3.0.0,!=3.0.1,<3.1.0,>=2.0.0->ipython>=4.0.0; python_version >= \"3.3\"->ipywidgets>=7.0.0->azureml-widgets) (0.2.5)\n",
      "Requirement already satisfied, skipping upgrade: ptyprocess>=0.5 in /anaconda/envs/azureml_py36/lib/python3.6/site-packages (from pexpect; sys_platform != \"win32\"->ipython>=4.0.0; python_version >= \"3.3\"->ipywidgets>=7.0.0->azureml-widgets) (0.7.0)\n",
      "Requirement already satisfied, skipping upgrade: portalocker~=1.0; platform_system != \"Windows\" in /anaconda/envs/azureml_py36/lib/python3.6/site-packages (from msal-extensions~=0.2.2->azure-identity<1.5.0,>=1.2.0->azureml-dataprep<2.8.0a,>=2.7.0a->azureml-dataset-runtime[fuse]~=1.20.0->azureml-sdk) (1.7.1)\n",
      "Requirement already satisfied, skipping upgrade: MarkupSafe>=0.23 in /anaconda/envs/azureml_py36/lib/python3.6/site-packages (from jinja2->notebook>=4.4.1->widgetsnbextension~=3.5.0->ipywidgets>=7.0.0->azureml-widgets) (1.1.1)\n",
      "Requirement already satisfied, skipping upgrade: entrypoints>=0.2.2 in /anaconda/envs/azureml_py36/lib/python3.6/site-packages (from nbconvert->notebook>=4.4.1->widgetsnbextension~=3.5.0->ipywidgets>=7.0.0->azureml-widgets) (0.3)\n",
      "Requirement already satisfied, skipping upgrade: testpath in /anaconda/envs/azureml_py36/lib/python3.6/site-packages (from nbconvert->notebook>=4.4.1->widgetsnbextension~=3.5.0->ipywidgets>=7.0.0->azureml-widgets) (0.4.4)\n",
      "Requirement already satisfied, skipping upgrade: bleach in /anaconda/envs/azureml_py36/lib/python3.6/site-packages (from nbconvert->notebook>=4.4.1->widgetsnbextension~=3.5.0->ipywidgets>=7.0.0->azureml-widgets) (3.2.1)\n",
      "Requirement already satisfied, skipping upgrade: mistune<2,>=0.8.1 in /anaconda/envs/azureml_py36/lib/python3.6/site-packages (from nbconvert->notebook>=4.4.1->widgetsnbextension~=3.5.0->ipywidgets>=7.0.0->azureml-widgets) (0.8.4)\n",
      "Requirement already satisfied, skipping upgrade: defusedxml in /anaconda/envs/azureml_py36/lib/python3.6/site-packages (from nbconvert->notebook>=4.4.1->widgetsnbextension~=3.5.0->ipywidgets>=7.0.0->azureml-widgets) (0.6.0)\n",
      "Requirement already satisfied, skipping upgrade: pandocfilters>=1.4.1 in /anaconda/envs/azureml_py36/lib/python3.6/site-packages (from nbconvert->notebook>=4.4.1->widgetsnbextension~=3.5.0->ipywidgets>=7.0.0->azureml-widgets) (1.4.3)\n",
      "Requirement already satisfied, skipping upgrade: packaging in /anaconda/envs/azureml_py36/lib/python3.6/site-packages (from bleach->nbconvert->notebook>=4.4.1->widgetsnbextension~=3.5.0->ipywidgets>=7.0.0->azureml-widgets) (20.7)\n",
      "Requirement already satisfied, skipping upgrade: webencodings in /anaconda/envs/azureml_py36/lib/python3.6/site-packages (from bleach->nbconvert->notebook>=4.4.1->widgetsnbextension~=3.5.0->ipywidgets>=7.0.0->azureml-widgets) (0.5.1)\n",
      "Requirement already satisfied, skipping upgrade: pyparsing>=2.0.2 in /anaconda/envs/azureml_py36/lib/python3.6/site-packages (from packaging->bleach->nbconvert->notebook>=4.4.1->widgetsnbextension~=3.5.0->ipywidgets>=7.0.0->azureml-widgets) (2.4.7)\n"
     ]
    }
   ],
   "source": [
    "!pip install --upgrade azureml-sdk azureml-widgets"
   ]
  },
  {
   "cell_type": "code",
   "execution_count": 3,
   "metadata": {
    "gather": {
     "logged": 1611240416743
    }
   },
   "outputs": [
    {
     "name": "stdout",
     "output_type": "stream",
     "text": [
      "Ready to use Azure ML 1.20.0 to work with cloudchronicles\n"
     ]
    }
   ],
   "source": [
    "import azureml.core\n",
    "from azureml.core import Workspace\n",
    "\n",
    "# Load the workspace from the saved config file\n",
    "ws = Workspace.from_config()\n",
    "\n",
    "print('Ready to use Azure ML {} to work with {}'.format(azureml.core.VERSION, ws.name))"
   ]
  },
  {
   "cell_type": "code",
   "execution_count": 4,
   "metadata": {
    "gather": {
     "logged": 1611240426286
    }
   },
   "outputs": [
    {
     "data": {
      "text/plain": [
       "{\n",
       "  \"name\": \"workspaceblobstore\",\n",
       "  \"container_name\": \"azureml-blobstore-58173a5e-80b6-4f14-8388-cd34fad101a8\",\n",
       "  \"account_name\": \"cloudchronicle6143683706\",\n",
       "  \"protocol\": \"https\",\n",
       "  \"endpoint\": \"core.windows.net\"\n",
       "}"
      ]
     },
     "execution_count": 4,
     "metadata": {},
     "output_type": "execute_result"
    }
   ],
   "source": [
    "from azureml.core import Dataset\n",
    "\n",
    "# Get the default datastore\n",
    "default_ds = ws.get_default_datastore()\n",
    "default_ds"
   ]
  },
  {
   "cell_type": "code",
   "execution_count": 5,
   "metadata": {
    "gather": {
     "logged": 1611240432994
    }
   },
   "outputs": [
    {
     "name": "stdout",
     "output_type": "stream",
     "text": [
      "Datasets:\n",
      "\t TD-Pipeline-Created-on-12-30-2020_on_01-21-2021-Clean_Missing_Data-Cleaning_transformation-4c43cba7 version 2\n",
      "\t TD-Pipeline-Created-on-12-30-2020_on_01-21-2021-Convert_to_Indicator_Values-Indicator_values_transformation-0d1e0744 version 1\n",
      "\t MD-Pipeline-Created-on-12-30-2020_on_01-21-2021-Train_Model-Trained_model-a8e07745 version 3\n",
      "\t sba_new version 1\n",
      "\t sbadata_2 version 3\n",
      "\t SBAdata version 1\n"
     ]
    }
   ],
   "source": [
    "print(\"Datasets:\")\n",
    "for dataset_name in list(ws.datasets.keys()):\n",
    "    dataset = Dataset.get_by_name(ws, dataset_name)\n",
    "    print(\"\\t\", dataset.name, 'version', dataset.version)"
   ]
  },
  {
   "cell_type": "code",
   "execution_count": 12,
   "metadata": {
    "gather": {
     "logged": 1611240632551
    }
   },
   "outputs": [],
   "source": [
    "#import dataset\n",
    "#use version 3\n",
    "sba_df = Dataset.get_by_name(ws, 'sbadata_2', version = 3)\n",
    "\n",
    "sba_df = sba_df.to_pandas_dataframe()"
   ]
  },
  {
   "cell_type": "code",
   "execution_count": 13,
   "metadata": {
    "gather": {
     "logged": 1611240637326
    }
   },
   "outputs": [],
   "source": [
    "#first few rows of the datset\n",
    "new_header = sba_df.iloc[0]\n",
    "sba_df = sba_df[1:]\n",
    "#set the header row \n",
    "sba_df.columns = new_header"
   ]
  },
  {
   "cell_type": "code",
   "execution_count": 14,
   "metadata": {
    "gather": {
     "logged": 1611240641084
    }
   },
   "outputs": [
    {
     "data": {
      "text/plain": [
       "0\n",
       "LoanNr_ChkDgt             0\n",
       "Name                      3\n",
       "City                     30\n",
       "State                    14\n",
       "Zip                       0\n",
       "Bank                   1559\n",
       "BankState              1566\n",
       "NAICS                     0\n",
       "ApprovalDate              0\n",
       "ApprovalFY                0\n",
       "Term                      0\n",
       "NoEmp                     0\n",
       "NewExist                136\n",
       "CreateJob                 0\n",
       "RetainedJob               0\n",
       "FranchiseCode             0\n",
       "UrbanRural                0\n",
       "RevLineCr              4528\n",
       "LowDoc                 2582\n",
       "ChgOffDate           736465\n",
       "DisbursementDate       2368\n",
       "DisbursemnetFY            0\n",
       "DisbursementGross         0\n",
       "BalanceGross              0\n",
       "MIS_Status             1997\n",
       "ChgOffPrinGr              0\n",
       "GrAppv                    0\n",
       "SBA_Appv                  0\n",
       "dtype: int64"
      ]
     },
     "execution_count": 14,
     "metadata": {},
     "output_type": "execute_result"
    }
   ],
   "source": [
    "sba_df.isnull().sum()"
   ]
  },
  {
   "cell_type": "markdown",
   "metadata": {},
   "source": [
    "Begin by creating a dataframe to hold the taxi data. Then preview the data."
   ]
  },
  {
   "cell_type": "code",
   "execution_count": 15,
   "metadata": {
    "gather": {
     "logged": 1611240646237
    }
   },
   "outputs": [
    {
     "name": "stderr",
     "output_type": "stream",
     "text": [
      "/anaconda/envs/azureml_py36/lib/python3.6/site-packages/ipykernel_launcher.py:2: SettingWithCopyWarning: \n",
      "A value is trying to be set on a copy of a slice from a DataFrame\n",
      "\n",
      "See the caveats in the documentation: http://pandas.pydata.org/pandas-docs/stable/user_guide/indexing.html#returning-a-view-versus-a-copy\n",
      "  \n"
     ]
    }
   ],
   "source": [
    "#Remove all the null values from the dataset - not using any imputing method as data is large enough to decide which imputing method will be worth to go ahead with\n",
    "sba_df.dropna(subset= ['Name','City','State','BankState','Bank', 'NewExist','RevLineCr','LowDoc','DisbursementDate','MIS_Status'], inplace = True)"
   ]
  },
  {
   "cell_type": "code",
   "execution_count": 16,
   "metadata": {
    "gather": {
     "logged": 1611240649970
    }
   },
   "outputs": [
    {
     "data": {
      "text/plain": [
       "0\n",
       "LoanNr_ChkDgt             0\n",
       "Name                      0\n",
       "City                      0\n",
       "State                     0\n",
       "Zip                       0\n",
       "Bank                      0\n",
       "BankState                 0\n",
       "NAICS                     0\n",
       "ApprovalDate              0\n",
       "ApprovalFY                0\n",
       "Term                      0\n",
       "NoEmp                     0\n",
       "NewExist                  0\n",
       "CreateJob                 0\n",
       "RetainedJob               0\n",
       "FranchiseCode             0\n",
       "UrbanRural                0\n",
       "RevLineCr                 0\n",
       "LowDoc                    0\n",
       "ChgOffDate           725379\n",
       "DisbursementDate          0\n",
       "DisbursemnetFY            0\n",
       "DisbursementGross         0\n",
       "BalanceGross              0\n",
       "MIS_Status                0\n",
       "ChgOffPrinGr              0\n",
       "GrAppv                    0\n",
       "SBA_Appv                  0\n",
       "dtype: int64"
      ]
     },
     "execution_count": 16,
     "metadata": {},
     "output_type": "execute_result"
    }
   ],
   "source": [
    "sba_df.isnull().sum()"
   ]
  },
  {
   "cell_type": "code",
   "execution_count": 17,
   "metadata": {
    "gather": {
     "logged": 1611240656596
    }
   },
   "outputs": [
    {
     "name": "stderr",
     "output_type": "stream",
     "text": [
      "/anaconda/envs/azureml_py36/lib/python3.6/site-packages/pandas/core/frame.py:3509: SettingWithCopyWarning: \n",
      "A value is trying to be set on a copy of a slice from a DataFrame.\n",
      "Try using .loc[row_indexer,col_indexer] = value instead\n",
      "\n",
      "See the caveats in the documentation: http://pandas.pydata.org/pandas-docs/stable/user_guide/indexing.html#returning-a-view-versus-a-copy\n",
      "  self[k1] = value[k2]\n"
     ]
    }
   ],
   "source": [
    "#To remove dollar and commas from the float varibles\n",
    "sba_df[['DisbursementGross', 'BalanceGross', 'ChgOffPrinGr', 'GrAppv', 'SBA_Appv']] = \\\n",
    "sba_df[['DisbursementGross', 'BalanceGross', 'ChgOffPrinGr', 'GrAppv', 'SBA_Appv']].applymap(lambda x:x.strip().replace('$','').replace(',',''))"
   ]
  },
  {
   "cell_type": "code",
   "execution_count": 13,
   "metadata": {
    "gather": {
     "logged": 1611240660839
    }
   },
   "outputs": [
    {
     "data": {
      "text/plain": [
       "0\n",
       "LoanNr_ChkDgt             0\n",
       "Name                      0\n",
       "City                      0\n",
       "State                     0\n",
       "Zip                       0\n",
       "Bank                      0\n",
       "BankState                 0\n",
       "NAICS                     0\n",
       "ApprovalDate              0\n",
       "ApprovalFY                0\n",
       "Term                      0\n",
       "NoEmp                     0\n",
       "NewExist                  0\n",
       "CreateJob                 0\n",
       "RetainedJob               0\n",
       "FranchiseCode             0\n",
       "UrbanRural                0\n",
       "RevLineCr                 0\n",
       "LowDoc                    0\n",
       "ChgOffDate           725379\n",
       "DisbursementDate          0\n",
       "DisbursemnetFY            0\n",
       "DisbursementGross         0\n",
       "BalanceGross              0\n",
       "MIS_Status                0\n",
       "ChgOffPrinGr              0\n",
       "GrAppv                    0\n",
       "SBA_Appv                  0\n",
       "dtype: int64"
      ]
     },
     "execution_count": 13,
     "metadata": {},
     "output_type": "execute_result"
    }
   ],
   "source": [
    "sba_df.isnull().sum()"
   ]
  },
  {
   "cell_type": "code",
   "execution_count": 19,
   "metadata": {
    "gather": {
     "logged": 1611240666039
    }
   },
   "outputs": [
    {
     "name": "stdout",
     "output_type": "stream",
     "text": [
      "<class 'pandas.core.frame.DataFrame'>\n",
      "Int64Index: 886251 entries, 1 to 899164\n",
      "Data columns (total 28 columns):\n",
      "LoanNr_ChkDgt        886251 non-null object\n",
      "Name                 886251 non-null object\n",
      "City                 886251 non-null object\n",
      "State                886251 non-null object\n",
      "Zip                  886251 non-null object\n",
      "Bank                 886251 non-null object\n",
      "BankState            886251 non-null object\n",
      "NAICS                886251 non-null object\n",
      "ApprovalDate         886251 non-null object\n",
      "ApprovalFY           886251 non-null object\n",
      "Term                 886251 non-null object\n",
      "NoEmp                886251 non-null object\n",
      "NewExist             886251 non-null object\n",
      "CreateJob            886251 non-null object\n",
      "RetainedJob          886251 non-null object\n",
      "FranchiseCode        886251 non-null object\n",
      "UrbanRural           886251 non-null object\n",
      "RevLineCr            886251 non-null object\n",
      "LowDoc               886251 non-null object\n",
      "ChgOffDate           160872 non-null object\n",
      "DisbursementDate     886251 non-null object\n",
      "DisbursemnetFY       886251 non-null object\n",
      "DisbursementGross    886251 non-null object\n",
      "BalanceGross         886251 non-null object\n",
      "MIS_Status           886251 non-null object\n",
      "ChgOffPrinGr         886251 non-null object\n",
      "GrAppv               886251 non-null object\n",
      "SBA_Appv             886251 non-null object\n",
      "dtypes: object(28)\n",
      "memory usage: 196.1+ MB\n"
     ]
    }
   ],
   "source": [
    "sba_df.info()"
   ]
  },
  {
   "cell_type": "code",
   "execution_count": 20,
   "metadata": {
    "gather": {
     "logged": 1611240671702
    }
   },
   "outputs": [],
   "source": [
    "#Changing the type of other columns\n",
    "sba_df = sba_df.astype({'Zip': 'str', 'NewExist': 'int64', 'UrbanRural': 'str', 'DisbursementGross': 'float', 'BalanceGross': 'float',\n",
    "                          'ChgOffPrinGr': 'float', 'GrAppv': 'float', 'SBA_Appv': 'float', 'DisbursemnetFY': 'int64', 'NoEmp':'int64'})"
   ]
  },
  {
   "cell_type": "code",
   "execution_count": 21,
   "metadata": {},
   "outputs": [],
   "source": [
    "sba_df['Percentage_sabapp'] = (sba_df['SBA_Appv']/sba_df['DisbursementGross'])*100"
   ]
  },
  {
   "cell_type": "code",
   "execution_count": 23,
   "metadata": {
    "gather": {
     "logged": 1611240677132
    }
   },
   "outputs": [],
   "source": [
    "sba_df['LowDoc'].unique()\n",
    "sba_df = sba_df.astype({'FranchiseCode':'int64'})"
   ]
  },
  {
   "cell_type": "code",
   "execution_count": 24,
   "metadata": {
    "gather": {
     "logged": 1611240687903
    }
   },
   "outputs": [],
   "source": [
    "#create all the required variables\n",
    "sba_df['default_status'] = np.where(sba_df['MIS_Status'] == \"P I F\", 0, 1)\n",
    "sba_df['Industry'] = sba_df['NAICS'].astype('str').apply(lambda x:x[:2])"
   ]
  },
  {
   "cell_type": "code",
   "execution_count": 25,
   "metadata": {
    "gather": {
     "logged": 1611240691666
    }
   },
   "outputs": [],
   "source": [
    "#Map the appropriate indusrty to each record based on the first 2 digits of the NAICS code\n",
    "sba_df['Industry'] = sba_df['Industry'].map({\n",
    "    '11': 'Ag/For/Fish/Hunt',\n",
    "    '21': 'Min/Quar/Oil_Gas_ext',\n",
    "    '22': 'Utilities',\n",
    "    '23': 'Construction',\n",
    "    '31': 'Manufacturing',\n",
    "    '32': 'Manufacturing',\n",
    "    '33': 'Manufacturing',\n",
    "    '42': 'Wholesale_trade',\n",
    "    '44': 'Retail_trade',\n",
    "    '45': 'Retail_trade',\n",
    "    '48': 'Trans/Ware',\n",
    "    '49': 'Trans/Ware',\n",
    "    '51': 'Information',\n",
    "    '52': 'Finance/Insurance',\n",
    "    '53': 'RE/Rental/Lease',\n",
    "    '54': 'Prof/Science/Tech',\n",
    "    '55': 'Mgmt_comp',\n",
    "    '56': 'Admin_sup/Waste_Mgmt_Rem',\n",
    "    '61': 'Educational',\n",
    "    '62': 'Healthcare/Social_assist',\n",
    "    '71': 'Arts/Entertain/Rec',\n",
    "    '72': 'Accom/Food_serv',\n",
    "    '81': 'Other_no_pub',\n",
    "    '92': 'Public_Admin',\n",
    "    '0':'Unknown'\n",
    "})"
   ]
  },
  {
   "cell_type": "code",
   "execution_count": 27,
   "metadata": {
    "gather": {
     "logged": 1611240696472
    }
   },
   "outputs": [
    {
     "name": "stdout",
     "output_type": "stream",
     "text": [
      "<class 'pandas.core.frame.DataFrame'>\n",
      "Int64Index: 886251 entries, 1 to 899164\n",
      "Data columns (total 31 columns):\n",
      "LoanNr_ChkDgt        886251 non-null object\n",
      "Name                 886251 non-null object\n",
      "City                 886251 non-null object\n",
      "State                886251 non-null object\n",
      "Zip                  886251 non-null object\n",
      "Bank                 886251 non-null object\n",
      "BankState            886251 non-null object\n",
      "NAICS                886251 non-null object\n",
      "ApprovalDate         886251 non-null object\n",
      "ApprovalFY           886251 non-null object\n",
      "Term                 886251 non-null object\n",
      "NoEmp                886251 non-null int64\n",
      "NewExist             886251 non-null int64\n",
      "CreateJob            886251 non-null object\n",
      "RetainedJob          886251 non-null object\n",
      "FranchiseCode        886251 non-null int64\n",
      "UrbanRural           886251 non-null object\n",
      "RevLineCr            886251 non-null object\n",
      "LowDoc               886251 non-null object\n",
      "ChgOffDate           160872 non-null object\n",
      "DisbursementDate     886251 non-null object\n",
      "DisbursemnetFY       886251 non-null int64\n",
      "DisbursementGross    886251 non-null float64\n",
      "BalanceGross         886251 non-null float64\n",
      "MIS_Status           886251 non-null object\n",
      "ChgOffPrinGr         886251 non-null float64\n",
      "GrAppv               886251 non-null float64\n",
      "SBA_Appv             886251 non-null float64\n",
      "Percentage_sabapp    886251 non-null float64\n",
      "default_status       886251 non-null int64\n",
      "Industry             886251 non-null object\n",
      "dtypes: float64(6), int64(5), object(20)\n",
      "memory usage: 216.4+ MB\n"
     ]
    }
   ],
   "source": [
    "sba_df.info()"
   ]
  },
  {
   "cell_type": "code",
   "execution_count": 28,
   "metadata": {
    "gather": {
     "logged": 1611240704076
    }
   },
   "outputs": [],
   "source": [
    "sba_df['IsFranchise'] = np.where(sba_df['FranchiseCode'] <= 1, 0, 1) "
   ]
  },
  {
   "cell_type": "code",
   "execution_count": 29,
   "metadata": {
    "gather": {
     "logged": 1611240706941
    }
   },
   "outputs": [],
   "source": [
    "sba_df = sba_df[(sba_df['NewExist'] == 1) | (sba_df['NewExist'] == 2)]"
   ]
  },
  {
   "cell_type": "code",
   "execution_count": 30,
   "metadata": {
    "gather": {
     "logged": 1611240710075
    }
   },
   "outputs": [],
   "source": [
    "sba_df = sba_df[(sba_df['LowDoc'] == \"Y\") | (sba_df['LowDoc'] == \"N\")]"
   ]
  },
  {
   "cell_type": "code",
   "execution_count": 31,
   "metadata": {
    "gather": {
     "logged": 1611240713241
    }
   },
   "outputs": [],
   "source": [
    "sba_df = sba_df[(sba_df['RevLineCr'] == 'Y') | (sba_df['RevLineCr'] == 'N')]"
   ]
  },
  {
   "cell_type": "code",
   "execution_count": 32,
   "metadata": {
    "gather": {
     "logged": 1611240716580
    }
   },
   "outputs": [],
   "source": [
    "#convert Y and N to 0 and 1\n",
    "sba_df['RevLineCr'] = np.where(sba_df['RevLineCr'] == 'N',0,1)\n",
    "sba_df['LowDoc'] = np.where(sba_df['LowDoc'] == 'N', 0, 1)"
   ]
  },
  {
   "cell_type": "code",
   "execution_count": 33,
   "metadata": {
    "gather": {
     "logged": 1611240720197
    }
   },
   "outputs": [
    {
     "name": "stdout",
     "output_type": "stream",
     "text": [
      "[0 1]\n",
      "[1 0]\n"
     ]
    }
   ],
   "source": [
    "# Check that it worked\n",
    "print(sba_df['RevLineCr'].unique())\n",
    "print(sba_df['LowDoc'].unique())"
   ]
  },
  {
   "cell_type": "code",
   "execution_count": 34,
   "metadata": {
    "gather": {
     "logged": 1611240724832
    }
   },
   "outputs": [],
   "source": [
    "# Convert ApprovalDate and DisbursementDate columns to datetime values\n",
    "# ChgOffDate not changed to datetime since it is not of value and will be removed later\n",
    "sba_df[['ApprovalDate', 'DisbursementDate']] = sba_df[['ApprovalDate', 'DisbursementDate']].apply(pd.to_datetime)"
   ]
  },
  {
   "cell_type": "markdown",
   "metadata": {},
   "source": [
    "Now that the initial data is loaded, define a function to create various time-based features from the pickup datetime field. This will create new fields for the month number, day of month, day of week, and hour of day, and will allow the model to factor in time-based seasonality. \n",
    "\n",
    "Use the `apply()` function on the dataframe to iteratively apply the `build_time_features()` function to each row in the taxi data."
   ]
  },
  {
   "cell_type": "code",
   "execution_count": 35,
   "metadata": {
    "gather": {
     "logged": 1611240728194
    }
   },
   "outputs": [
    {
     "data": {
      "text/plain": [
       "array(['1997', '1980', '2006', '1998', '1999', '2000', '2001', '1971',\n",
       "       '2002', '2003', '2004', '1972', '1978', '1981', '2005', '1979',\n",
       "       '1982', '1983', '1984', '1985', '2007', '1986', '1987', '1973',\n",
       "       '2008', '1988', '1989', '2009', '1991', '1990', '2010', '2011',\n",
       "       '1992', '1993', '2012', '1994', '2013', '1975', '1976', '1974',\n",
       "       '2014', '1977', '1969', '1970', '1995', '1996'], dtype=object)"
      ]
     },
     "execution_count": 35,
     "metadata": {},
     "output_type": "execute_result"
    }
   ],
   "source": [
    "sba_df['ApprovalFY'].unique()"
   ]
  },
  {
   "cell_type": "code",
   "execution_count": 36,
   "metadata": {
    "gather": {
     "logged": 1611240731986
    }
   },
   "outputs": [
    {
     "data": {
      "text/plain": [
       "array([1999, 1997, 1980, 1998, 2006, 2002, 2001, 2000, 2003, 1982, 2004,\n",
       "       1971, 2005, 2009, 2007, 2008, 1981, 1972, 1978, 1979, 1996, 2010,\n",
       "       1995, 2012, 1983, 1985, 1984, 1948, 1987, 1973, 1986, 2011, 1988,\n",
       "       1989, 2013, 1990, 1991, 2014, 1992, 1993, 1994, 2020, 1974, 2028,\n",
       "       1975, 1976, 1977, 1969, 1970])"
      ]
     },
     "execution_count": 36,
     "metadata": {},
     "output_type": "execute_result"
    }
   ],
   "source": [
    "sba_df['DisbursemnetFY'].unique()"
   ]
  },
  {
   "cell_type": "code",
   "execution_count": 37,
   "metadata": {
    "gather": {
     "logged": 1611240735322
    }
   },
   "outputs": [],
   "source": [
    "sba_df = sba_df.astype({'ApprovalFY':'int64', 'DisbursemnetFY' : 'int64'})"
   ]
  },
  {
   "cell_type": "code",
   "execution_count": 38,
   "metadata": {
    "gather": {
     "logged": 1611240738808
    }
   },
   "outputs": [
    {
     "data": {
      "text/plain": [
       "array([1997, 1980, 2006, 1998, 1999, 2000, 2001, 1971, 2002, 2003, 2004,\n",
       "       1972, 1978, 1981, 2005, 1979, 1982, 1983, 1984, 1985, 2007, 1986,\n",
       "       1987, 1973, 2008, 1988, 1989, 2009, 1991, 1990, 2010, 2011, 1992,\n",
       "       1993, 2012, 1994, 2013, 1975, 1976, 1974, 2014, 1977, 1969, 1970,\n",
       "       1995, 1996])"
      ]
     },
     "execution_count": 38,
     "metadata": {},
     "output_type": "execute_result"
    }
   ],
   "source": [
    "sba_df['ApprovalFY'].unique()"
   ]
  },
  {
   "cell_type": "code",
   "execution_count": 39,
   "metadata": {
    "gather": {
     "logged": 1611240741442
    }
   },
   "outputs": [],
   "source": [
    "#Real Estate Backed up\n",
    "sba_df = sba_df.astype({'Term':'int64'})\n",
    "sba_df[\"RealEstate\"] = np.where(sba_df['Term'] >= 240, 1, 0)"
   ]
  },
  {
   "cell_type": "code",
   "execution_count": 40,
   "metadata": {
    "gather": {
     "logged": 1611240744207
    }
   },
   "outputs": [
    {
     "data": {
      "text/plain": [
       "array(['0', '1', '2'], dtype=object)"
      ]
     },
     "execution_count": 40,
     "metadata": {},
     "output_type": "execute_result"
    }
   ],
   "source": [
    "sba_df['UrbanRural'].unique()"
   ]
  },
  {
   "cell_type": "code",
   "execution_count": 41,
   "metadata": {
    "gather": {
     "logged": 1611240747975
    }
   },
   "outputs": [],
   "source": [
    "# Recession time and Field for loans active during the Great Recession (2007-2009)\n",
    "sba_df['Recession'] = np.where(((2007 <= sba_df['DisbursemnetFY']) & (sba_df['DisbursemnetFY'] <= 2009)) | \n",
    "                                     ((sba_df['DisbursemnetFY'] < 2007) & (sba_df['DisbursemnetFY'] + (sba_df['Term']/12) >= 2007)), 1, 0)"
   ]
  },
  {
   "cell_type": "code",
   "execution_count": 42,
   "metadata": {
    "gather": {
     "logged": 1611240751902
    }
   },
   "outputs": [
    {
     "data": {
      "text/plain": [
       "array([0, 1])"
      ]
     },
     "execution_count": 42,
     "metadata": {},
     "output_type": "execute_result"
    }
   ],
   "source": [
    "sba_df['Recession'].unique()"
   ]
  },
  {
   "cell_type": "code",
   "execution_count": 43,
   "metadata": {
    "gather": {
     "logged": 1611240755927
    }
   },
   "outputs": [],
   "source": [
    "#Filter the records with a disbursement year through 20\n",
    "sba_filtered = sba_df[sba_df['DisbursemnetFY'] <= 2010]"
   ]
  },
  {
   "cell_type": "code",
   "execution_count": 44,
   "metadata": {
    "gather": {
     "logged": 1611240758627
    }
   },
   "outputs": [
    {
     "name": "stdout",
     "output_type": "stream",
     "text": [
      "<class 'pandas.core.frame.DataFrame'>\n",
      "Int64Index: 591757 entries, 1 to 899164\n",
      "Data columns (total 34 columns):\n",
      "LoanNr_ChkDgt        591757 non-null object\n",
      "Name                 591757 non-null object\n",
      "City                 591757 non-null object\n",
      "State                591757 non-null object\n",
      "Zip                  591757 non-null object\n",
      "Bank                 591757 non-null object\n",
      "BankState            591757 non-null object\n",
      "NAICS                591757 non-null object\n",
      "ApprovalDate         591757 non-null datetime64[ns]\n",
      "ApprovalFY           591757 non-null int64\n",
      "Term                 591757 non-null int64\n",
      "NoEmp                591757 non-null int64\n",
      "NewExist             591757 non-null int64\n",
      "CreateJob            591757 non-null object\n",
      "RetainedJob          591757 non-null object\n",
      "FranchiseCode        591757 non-null int64\n",
      "UrbanRural           591757 non-null object\n",
      "RevLineCr            591757 non-null int64\n",
      "LowDoc               591757 non-null int64\n",
      "ChgOffDate           112654 non-null object\n",
      "DisbursementDate     591757 non-null datetime64[ns]\n",
      "DisbursemnetFY       591757 non-null int64\n",
      "DisbursementGross    591757 non-null float64\n",
      "BalanceGross         591757 non-null float64\n",
      "MIS_Status           591757 non-null object\n",
      "ChgOffPrinGr         591757 non-null float64\n",
      "GrAppv               591757 non-null float64\n",
      "SBA_Appv             591757 non-null float64\n",
      "Percentage_sabapp    591757 non-null float64\n",
      "default_status       591757 non-null int64\n",
      "Industry             591757 non-null object\n",
      "IsFranchise          591757 non-null int64\n",
      "RealEstate           591757 non-null int64\n",
      "Recession            591757 non-null int64\n",
      "dtypes: datetime64[ns](2), float64(6), int64(12), object(14)\n",
      "memory usage: 158.0+ MB\n"
     ]
    }
   ],
   "source": [
    "sba_filtered.info()"
   ]
  },
  {
   "cell_type": "code",
   "execution_count": 45,
   "metadata": {
    "gather": {
     "logged": 1611240771330
    }
   },
   "outputs": [
    {
     "name": "stderr",
     "output_type": "stream",
     "text": [
      "/anaconda/envs/azureml_py36/lib/python3.6/site-packages/ipykernel_launcher.py:1: SettingWithCopyWarning: \n",
      "A value is trying to be set on a copy of a slice from a DataFrame.\n",
      "Try using .loc[row_indexer,col_indexer] = value instead\n",
      "\n",
      "See the caveats in the documentation: http://pandas.pydata.org/pandas-docs/stable/user_guide/indexing.html#returning-a-view-versus-a-copy\n",
      "  \"\"\"Entry point for launching an IPython kernel.\n"
     ]
    }
   ],
   "source": [
    "sba_filtered['same_bankstate'] = np.where(sba_filtered['State'] == sba_filtered['BankState'],1,0)"
   ]
  },
  {
   "cell_type": "code",
   "execution_count": 46,
   "metadata": {
    "gather": {
     "logged": 1611240774482
    }
   },
   "outputs": [
    {
     "data": {
      "text/plain": [
       "array([0, 1])"
      ]
     },
     "execution_count": 46,
     "metadata": {},
     "output_type": "execute_result"
    }
   ],
   "source": [
    "sba_filtered['same_bankstate'].unique()"
   ]
  },
  {
   "cell_type": "code",
   "execution_count": 47,
   "metadata": {
    "gather": {
     "logged": 1611240778232
    }
   },
   "outputs": [
    {
     "name": "stderr",
     "output_type": "stream",
     "text": [
      "/anaconda/envs/azureml_py36/lib/python3.6/site-packages/ipykernel_launcher.py:1: SettingWithCopyWarning: \n",
      "A value is trying to be set on a copy of a slice from a DataFrame.\n",
      "Try using .loc[row_indexer,col_indexer] = value instead\n",
      "\n",
      "See the caveats in the documentation: http://pandas.pydata.org/pandas-docs/stable/user_guide/indexing.html#returning-a-view-versus-a-copy\n",
      "  \"\"\"Entry point for launching an IPython kernel.\n"
     ]
    }
   ],
   "source": [
    "sba_filtered['Daystodisbursement'] = (sba_filtered['DisbursementDate'] - sba_filtered['ApprovalDate']).dt.days"
   ]
  },
  {
   "cell_type": "code",
   "execution_count": 48,
   "metadata": {
    "gather": {
     "logged": 1611240781667
    }
   },
   "outputs": [],
   "source": [
    "#checking\n",
    "sba_check = sba_filtered[sba_filtered['Daystodisbursement'] <= 0]"
   ]
  },
  {
   "cell_type": "code",
   "execution_count": 42,
   "metadata": {
    "gather": {
     "logged": 1611240784312
    },
    "jupyter": {
     "outputs_hidden": true
    }
   },
   "outputs": [
    {
     "data": {
      "text/html": [
       "<div>\n",
       "<style scoped>\n",
       "    .dataframe tbody tr th:only-of-type {\n",
       "        vertical-align: middle;\n",
       "    }\n",
       "\n",
       "    .dataframe tbody tr th {\n",
       "        vertical-align: top;\n",
       "    }\n",
       "\n",
       "    .dataframe thead th {\n",
       "        text-align: right;\n",
       "    }\n",
       "</style>\n",
       "<table border=\"1\" class=\"dataframe\">\n",
       "  <thead>\n",
       "    <tr style=\"text-align: right;\">\n",
       "      <th></th>\n",
       "      <th>ApprovalDate</th>\n",
       "      <th>DisbursementDate</th>\n",
       "      <th>Daystodisbursement</th>\n",
       "      <th>LoanNr_ChkDgt</th>\n",
       "    </tr>\n",
       "  </thead>\n",
       "  <tbody>\n",
       "    <tr>\n",
       "      <th>482</th>\n",
       "      <td>1980-06-25</td>\n",
       "      <td>1980-05-12</td>\n",
       "      <td>-44</td>\n",
       "      <td>1003703008</td>\n",
       "    </tr>\n",
       "    <tr>\n",
       "      <th>591</th>\n",
       "      <td>2001-04-30</td>\n",
       "      <td>2001-04-30</td>\n",
       "      <td>0</td>\n",
       "      <td>1004375010</td>\n",
       "    </tr>\n",
       "    <tr>\n",
       "      <th>1102</th>\n",
       "      <td>1997-03-04</td>\n",
       "      <td>1997-03-04</td>\n",
       "      <td>0</td>\n",
       "      <td>1007554004</td>\n",
       "    </tr>\n",
       "    <tr>\n",
       "      <th>1549</th>\n",
       "      <td>1997-03-05</td>\n",
       "      <td>1997-02-28</td>\n",
       "      <td>-5</td>\n",
       "      <td>1010634005</td>\n",
       "    </tr>\n",
       "    <tr>\n",
       "      <th>1656</th>\n",
       "      <td>1997-03-05</td>\n",
       "      <td>1997-02-28</td>\n",
       "      <td>-5</td>\n",
       "      <td>1011204007</td>\n",
       "    </tr>\n",
       "    <tr>\n",
       "      <th>...</th>\n",
       "      <td>...</td>\n",
       "      <td>...</td>\n",
       "      <td>...</td>\n",
       "      <td>...</td>\n",
       "    </tr>\n",
       "    <tr>\n",
       "      <th>897224</th>\n",
       "      <td>1997-02-10</td>\n",
       "      <td>1996-04-13</td>\n",
       "      <td>-303</td>\n",
       "      <td>9952913010</td>\n",
       "    </tr>\n",
       "    <tr>\n",
       "      <th>898205</th>\n",
       "      <td>1997-02-20</td>\n",
       "      <td>1997-02-20</td>\n",
       "      <td>0</td>\n",
       "      <td>9975553001</td>\n",
       "    </tr>\n",
       "    <tr>\n",
       "      <th>898374</th>\n",
       "      <td>1997-02-21</td>\n",
       "      <td>1987-04-01</td>\n",
       "      <td>-3614</td>\n",
       "      <td>9978813002</td>\n",
       "    </tr>\n",
       "    <tr>\n",
       "      <th>898478</th>\n",
       "      <td>1997-02-21</td>\n",
       "      <td>1997-02-21</td>\n",
       "      <td>0</td>\n",
       "      <td>9980473006</td>\n",
       "    </tr>\n",
       "    <tr>\n",
       "      <th>899108</th>\n",
       "      <td>2001-03-26</td>\n",
       "      <td>1998-01-31</td>\n",
       "      <td>-1150</td>\n",
       "      <td>9994623004</td>\n",
       "    </tr>\n",
       "  </tbody>\n",
       "</table>\n",
       "<p>8281 rows × 4 columns</p>\n",
       "</div>"
      ],
      "text/plain": [
       "0      ApprovalDate DisbursementDate  Daystodisbursement LoanNr_ChkDgt\n",
       "482      1980-06-25       1980-05-12                 -44    1003703008\n",
       "591      2001-04-30       2001-04-30                   0    1004375010\n",
       "1102     1997-03-04       1997-03-04                   0    1007554004\n",
       "1549     1997-03-05       1997-02-28                  -5    1010634005\n",
       "1656     1997-03-05       1997-02-28                  -5    1011204007\n",
       "...             ...              ...                 ...           ...\n",
       "897224   1997-02-10       1996-04-13                -303    9952913010\n",
       "898205   1997-02-20       1997-02-20                   0    9975553001\n",
       "898374   1997-02-21       1987-04-01               -3614    9978813002\n",
       "898478   1997-02-21       1997-02-21                   0    9980473006\n",
       "899108   2001-03-26       1998-01-31               -1150    9994623004\n",
       "\n",
       "[8281 rows x 4 columns]"
      ]
     },
     "execution_count": 42,
     "metadata": {},
     "output_type": "execute_result"
    }
   ],
   "source": [
    "sba_check[['ApprovalDate','DisbursementDate', 'Daystodisbursement','LoanNr_ChkDgt']]"
   ]
  },
  {
   "cell_type": "code",
   "execution_count": 49,
   "metadata": {
    "gather": {
     "logged": 1611240787257
    }
   },
   "outputs": [],
   "source": [
    "#filtering the negative values out from days to disbursement\n",
    "sba_filtered = sba_filtered[sba_filtered['Daystodisbursement'] >=0]"
   ]
  },
  {
   "cell_type": "code",
   "execution_count": 44,
   "metadata": {
    "gather": {
     "logged": 1611240790614
    },
    "scrolled": true
   },
   "outputs": [
    {
     "name": "stdout",
     "output_type": "stream",
     "text": [
      "<class 'pandas.core.frame.DataFrame'>\n",
      "Int64Index: 591183 entries, 1 to 899164\n",
      "Data columns (total 35 columns):\n",
      "LoanNr_ChkDgt         591183 non-null object\n",
      "Name                  591183 non-null object\n",
      "City                  591183 non-null object\n",
      "State                 591183 non-null object\n",
      "Zip                   591183 non-null object\n",
      "Bank                  591183 non-null object\n",
      "BankState             591183 non-null object\n",
      "NAICS                 591183 non-null object\n",
      "ApprovalDate          591183 non-null datetime64[ns]\n",
      "ApprovalFY            591183 non-null int64\n",
      "Term                  591183 non-null int64\n",
      "NoEmp                 591183 non-null int64\n",
      "NewExist              591183 non-null int64\n",
      "CreateJob             591183 non-null object\n",
      "RetainedJob           591183 non-null object\n",
      "FranchiseCode         591183 non-null int64\n",
      "UrbanRural            591183 non-null object\n",
      "RevLineCr             591183 non-null int64\n",
      "LowDoc                591183 non-null int64\n",
      "ChgOffDate            112587 non-null object\n",
      "DisbursementDate      591183 non-null datetime64[ns]\n",
      "DisbursemnetFY        591183 non-null int64\n",
      "DisbursementGross     591183 non-null float64\n",
      "BalanceGross          591183 non-null float64\n",
      "MIS_Status            591183 non-null object\n",
      "ChgOffPrinGr          591183 non-null float64\n",
      "GrAppv                591183 non-null float64\n",
      "SBA_Appv              591183 non-null float64\n",
      "default_status        591183 non-null int64\n",
      "Industry              591183 non-null object\n",
      "IsFranchise           591183 non-null int64\n",
      "RealEstate            591183 non-null int64\n",
      "Recession             591183 non-null int64\n",
      "same_bankstate        591183 non-null int64\n",
      "Daystodisbursement    591183 non-null int64\n",
      "dtypes: datetime64[ns](2), float64(5), int64(14), object(14)\n",
      "memory usage: 162.4+ MB\n"
     ]
    }
   ],
   "source": [
    "sba_filtered.info()"
   ]
  },
  {
   "cell_type": "code",
   "execution_count": 50,
   "metadata": {
    "gather": {
     "logged": 1611240797690
    }
   },
   "outputs": [],
   "source": [
    "sba_filtered = sba_filtered.astype({'CreateJob':'int64', 'RetainedJob' : 'int64'})"
   ]
  },
  {
   "cell_type": "code",
   "execution_count": 46,
   "metadata": {
    "gather": {
     "logged": 1611240801389
    }
   },
   "outputs": [
    {
     "data": {
      "text/plain": [
       "count    591183.000000\n",
       "mean         11.358779\n",
       "std         289.491592\n",
       "min           0.000000\n",
       "25%           0.000000\n",
       "50%           0.000000\n",
       "75%           1.000000\n",
       "max        8800.000000\n",
       "Name: CreateJob, dtype: float64"
      ]
     },
     "execution_count": 46,
     "metadata": {},
     "output_type": "execute_result"
    }
   ],
   "source": [
    "sba_filtered['CreateJob'].describe()"
   ]
  },
  {
   "cell_type": "code",
   "execution_count": 47,
   "metadata": {
    "gather": {
     "logged": 1611240804532
    }
   },
   "outputs": [
    {
     "data": {
      "text/plain": [
       "Index(['LoanNr_ChkDgt', 'Name', 'City', 'State', 'Zip', 'Bank', 'BankState',\n",
       "       'NAICS', 'ApprovalDate', 'ApprovalFY', 'Term', 'NoEmp', 'NewExist',\n",
       "       'CreateJob', 'RetainedJob', 'FranchiseCode', 'UrbanRural', 'RevLineCr',\n",
       "       'LowDoc', 'ChgOffDate', 'DisbursementDate', 'DisbursemnetFY',\n",
       "       'DisbursementGross', 'BalanceGross', 'MIS_Status', 'ChgOffPrinGr',\n",
       "       'GrAppv', 'SBA_Appv', 'default_status', 'Industry', 'IsFranchise',\n",
       "       'RealEstate', 'Recession', 'same_bankstate', 'Daystodisbursement'],\n",
       "      dtype='object', name=0)"
      ]
     },
     "execution_count": 47,
     "metadata": {},
     "output_type": "execute_result"
    }
   ],
   "source": [
    "sba_filtered.columns"
   ]
  },
  {
   "cell_type": "code",
   "execution_count": 51,
   "metadata": {
    "gather": {
     "logged": 1611240807986
    }
   },
   "outputs": [],
   "source": [
    "sba_filtered.drop(columns = ['LoanNr_ChkDgt','Name','City','State','Zip','Bank','BankState','NAICS','ApprovalDate','ApprovalFY','FranchiseCode','ChgOffDate','DisbursementDate','DisbursemnetFY','MIS_Status','SBA_Appv','ChgOffPrinGr'], inplace=True)"
   ]
  },
  {
   "cell_type": "code",
   "execution_count": 52,
   "metadata": {
    "gather": {
     "logged": 1611240810363
    }
   },
   "outputs": [
    {
     "data": {
      "text/plain": [
       "Index(['Term', 'NoEmp', 'NewExist', 'CreateJob', 'RetainedJob', 'UrbanRural',\n",
       "       'RevLineCr', 'LowDoc', 'DisbursementGross', 'BalanceGross', 'GrAppv',\n",
       "       'Percentage_sabapp', 'default_status', 'Industry', 'IsFranchise',\n",
       "       'RealEstate', 'Recession', 'same_bankstate', 'Daystodisbursement'],\n",
       "      dtype='object', name=0)"
      ]
     },
     "execution_count": 52,
     "metadata": {},
     "output_type": "execute_result"
    }
   ],
   "source": [
    "sba_filtered.columns"
   ]
  },
  {
   "cell_type": "markdown",
   "metadata": {},
   "source": [
    "## Configure workspace\n"
   ]
  },
  {
   "cell_type": "markdown",
   "metadata": {},
   "source": [
    "Create a workspace object from the existing workspace. A [Workspace](https://docs.microsoft.com/python/api/azureml-core/azureml.core.workspace.workspace?view=azure-ml-py) is a class that accepts your Azure subscription and resource information. It also creates a cloud resource to monitor and track your model runs. `Workspace.from_config()` reads the file **config.json** and loads the authentication details into an object named `ws`. `ws` is used throughout the rest of the code in this tutorial."
   ]
  },
  {
   "cell_type": "code",
   "execution_count": 53,
   "metadata": {
    "gather": {
     "logged": 1611240944868
    }
   },
   "outputs": [],
   "source": [
    "from azureml.core.workspace import Workspace\n",
    "ws = Workspace.from_config()"
   ]
  },
  {
   "cell_type": "code",
   "execution_count": 54,
   "metadata": {
    "gather": {
     "logged": 1611240947205
    }
   },
   "outputs": [],
   "source": [
    "# Establish target and feature fields\n",
    "y = sba_filtered['default_status']\n",
    "X = sba_filtered.drop('default_status', axis=1)"
   ]
  },
  {
   "cell_type": "markdown",
   "metadata": {},
   "source": [
    "## Split the data into train and test sets"
   ]
  },
  {
   "cell_type": "markdown",
   "metadata": {},
   "source": [
    "Split the data into training and test sets by using the `train_test_split` function in the `scikit-learn` library. This function segregates the data into the x (**features**) data set for model training and the y (**values to predict**) data set for testing. The `test_size` parameter determines the percentage of data to allocate to testing. The `random_state` parameter sets a seed to the random generator, so that your train-test splits are deterministic."
   ]
  },
  {
   "cell_type": "code",
   "execution_count": 55,
   "metadata": {
    "gather": {
     "logged": 1611240951670
    }
   },
   "outputs": [],
   "source": [
    "from sklearn.model_selection import train_test_split\n",
    "\n",
    "X_train, X_test, y_train, y_test = train_test_split(X,y, test_size=0.25, random_state=223)"
   ]
  },
  {
   "cell_type": "code",
   "execution_count": 56,
   "metadata": {
    "gather": {
     "logged": 1611240954698
    },
    "jupyter": {
     "outputs_hidden": true,
     "source_hidden": false
    },
    "nteract": {
     "transient": {
      "deleting": false
     }
    }
   },
   "outputs": [],
   "source": [
    "from sklearn.model_selection import train_test_split\n",
    "\n",
    "x_train, x_test = train_test_split(sba_filtered, test_size=0.2, random_state=223)"
   ]
  },
  {
   "cell_type": "markdown",
   "metadata": {},
   "source": [
    "The purpose of this step is to have data points to test the finished model that haven't been used to train the model, in order to measure true accuracy. \n",
    "\n",
    "In other words, a well-trained model should be able to accurately make predictions from data it hasn't already seen. You now have data prepared for auto-training a machine learning model."
   ]
  },
  {
   "cell_type": "markdown",
   "metadata": {},
   "source": [
    "## Automatically train a model"
   ]
  },
  {
   "cell_type": "markdown",
   "metadata": {},
   "source": [
    "To automatically train a model, take the following steps:\n",
    "1. Define settings for the experiment run. Attach your training data to the configuration, and modify settings that control the training process.\n",
    "1. Submit the experiment for model tuning. After submitting the experiment, the process iterates through different machine learning algorithms and hyperparameter settings, adhering to your defined constraints. It chooses the best-fit model by optimizing an accuracy metric."
   ]
  },
  {
   "cell_type": "markdown",
   "metadata": {},
   "source": [
    "### Define training settings"
   ]
  },
  {
   "cell_type": "markdown",
   "metadata": {},
   "source": [
    "Define the experiment parameter and model settings for training. View the full list of [settings](https://docs.microsoft.com/azure/machine-learning/service/how-to-configure-auto-train). Submitting the experiment with these default settings will take approximately 20 minutes, but if you want a shorter run time, reduce the `experiment_timeout_hours` parameter.\n",
    "\n",
    "\n",
    "|Property| Value in this tutorial |Description|\n",
    "|----|----|---|\n",
    "|**iteration_timeout_minutes**|10|Time limit in minutes for each iteration. Increase this value for larger datasets that need more time for each iteration.|\n",
    "|**experiment_timeout_hours**|0.3|Maximum amount of time in hours that all iterations combined can take before the experiment terminates.|\n",
    "|**enable_early_stopping**|True|Flag to enable early termination if the score is not improving in the short term.|\n",
    "|**primary_metric**| spearman_correlation | Metric that you want to optimize. The best-fit model will be chosen based on this metric.|\n",
    "|**featurization**| auto | By using auto, the experiment can preprocess the input data (handling missing data, converting text to numeric, etc.)|\n",
    "|**verbosity**| logging.INFO | Controls the level of logging.|\n",
    "|**n_cross_validations**|5|Number of cross-validation splits to perform when validation data is not specified.|"
   ]
  },
  {
   "cell_type": "code",
   "execution_count": 57,
   "metadata": {
    "gather": {
     "logged": 1611240959141
    }
   },
   "outputs": [],
   "source": [
    "import logging\n",
    "\n",
    "automl_settings = {\n",
    "    \"iteration_timeout_minutes\": 10,\n",
    "    \"experiment_timeout_hours\": 0.3,\n",
    "    \"enable_early_stopping\": True,\n",
    "    \"primary_metric\": 'AUC_weighted',\n",
    "    \"featurization\": 'auto',\n",
    "    \"verbosity\": logging.INFO,\n",
    "    \"n_cross_validations\": 5\n",
    "}"
   ]
  },
  {
   "cell_type": "markdown",
   "metadata": {},
   "source": [
    "Use your defined training settings as a `**kwargs` parameter to an `AutoMLConfig` object. Additionally, specify your training data and the type of model, which is `regression` in this case."
   ]
  },
  {
   "cell_type": "code",
   "execution_count": 58,
   "metadata": {
    "gather": {
     "logged": 1611240963016
    }
   },
   "outputs": [],
   "source": [
    "from azureml.train.automl import AutoMLConfig\n",
    "\n",
    "automl_config = AutoMLConfig(task='classification',\n",
    "                             debug_log='automated_ml_errors.log',\n",
    "                             training_data=x_train,\n",
    "                             label_column_name=\"default_status\",\n",
    "                             **automl_settings)\n",
    "\n",
    "\n"
   ]
  },
  {
   "cell_type": "markdown",
   "metadata": {},
   "source": [
    "Automated machine learning pre-processing steps (feature normalization, handling missing data, converting text to numeric, etc.) become part of the underlying model. When using the model for predictions, the same pre-processing steps applied during training are applied to your input data automatically."
   ]
  },
  {
   "cell_type": "markdown",
   "metadata": {},
   "source": [
    "### Train the automatic regression model"
   ]
  },
  {
   "cell_type": "markdown",
   "metadata": {},
   "source": [
    "Create an experiment object in your workspace. An experiment acts as a container for your individual runs. Pass the defined `automl_config` object to the experiment, and set the output to `True` to view progress during the run. \n",
    "\n",
    "After starting the experiment, the output shown updates live as the experiment runs. For each iteration, you see the model type, the run duration, and the training accuracy. The field `BEST` tracks the best running training score based on your metric type."
   ]
  },
  {
   "cell_type": "code",
   "execution_count": null,
   "metadata": {
    "gather": {
     "logged": 1611153552031
    }
   },
   "outputs": [
    {
     "name": "stdout",
     "output_type": "stream",
     "text": [
      "No run_configuration provided, running on local with default configuration\n",
      "Running on local machine\n",
      "Parent Run ID: AutoML_31e33585-da86-4c0e-baea-1d53c39f2372\n",
      "\n",
      "Current status: DatasetEvaluation. Gathering dataset statistics.\n",
      "Current status: FeaturesGeneration. Generating features for the dataset.\n",
      "Current status: DatasetFeaturization. Beginning to fit featurizers and featurize the dataset.\n",
      "Current status: DatasetFeaturizationCompleted. Completed fit featurizers and featurizing the dataset.\n",
      "Current status: DatasetCrossValidationSplit. Generating individually featurized CV splits.\n",
      "\n",
      "****************************************************************************************************\n",
      "DATA GUARDRAILS: \n",
      "\n",
      "TYPE:         Class balancing detection\n",
      "STATUS:       PASSED\n",
      "DESCRIPTION:  Your inputs were analyzed, and all classes are balanced in your training data.\n",
      "              Learn more about imbalanced data: https://aka.ms/AutomatedMLImbalancedData\n",
      "\n",
      "****************************************************************************************************\n",
      "\n",
      "TYPE:         Missing feature values imputation\n",
      "STATUS:       PASSED\n",
      "DESCRIPTION:  No feature missing values were detected in the training data.\n",
      "              Learn more about missing value imputation: https://aka.ms/AutomatedMLFeaturization\n",
      "\n",
      "****************************************************************************************************\n",
      "\n",
      "TYPE:         High cardinality feature detection\n",
      "STATUS:       PASSED\n",
      "DESCRIPTION:  Your inputs were analyzed, and no high cardinality features were detected.\n",
      "              Learn more about high cardinality feature handling: https://aka.ms/AutomatedMLFeaturization\n",
      "\n",
      "****************************************************************************************************\n",
      "Current status: ModelSelection. Beginning model selection.\n",
      "\n",
      "****************************************************************************************************\n",
      "ITERATION: The iteration being evaluated.\n",
      "PIPELINE: A summary description of the pipeline being evaluated.\n",
      "DURATION: Time taken for the current iteration.\n",
      "METRIC: The result of computing score on the fitted pipeline.\n",
      "BEST: The best observed score thus far.\n",
      "****************************************************************************************************\n",
      "\n",
      " ITERATION   PIPELINE                                       DURATION      METRIC      BEST\n",
      "         0   MaxAbsScaler LightGBM                          0:01:49       0.9746    0.9746\n",
      "         1   "
     ]
    }
   ],
   "source": [
    "from azureml.core.experiment import Experiment\n",
    "experiment = Experiment(ws, \"sba_loan\")\n",
    "local_run = experiment.submit(automl_config, show_output=True)"
   ]
  },
  {
   "cell_type": "markdown",
   "metadata": {},
   "source": [
    "## Explore the results"
   ]
  },
  {
   "cell_type": "markdown",
   "metadata": {},
   "source": [
    "Explore the results of automatic training with a [Jupyter widget](https://docs.microsoft.com/python/api/azureml-widgets/azureml.widgets?view=azure-ml-py). The widget allows you to see a graph and table of all individual run iterations, along with training accuracy metrics and metadata. Additionally, you can filter on different accuracy metrics than your primary metric with the dropdown selector."
   ]
  },
  {
   "cell_type": "code",
   "execution_count": 60,
   "metadata": {
    "gather": {
     "logged": 1611244669927
    }
   },
   "outputs": [
    {
     "data": {
      "application/vnd.jupyter.widget-view+json": {
       "model_id": "2c79ba9ae5c54490a4f4fb8fbd2b8dfa",
       "version_major": 2,
       "version_minor": 0
      },
      "text/plain": [
       "_AutoMLWidget(widget_settings={'childWidgetDisplay': 'popup', 'send_telemetry': False, 'log_level': 'INFO', 's…"
      ]
     },
     "metadata": {},
     "output_type": "display_data"
    },
    {
     "data": {
      "application/aml.mini.widget.v1": "{\"status\": \"Completed\", \"workbench_run_details_uri\": \"https://ml.azure.com/experiments/sba_loan/runs/AutoML_31e33585-da86-4c0e-baea-1d53c39f2372?wsid=/subscriptions/6fb6d663-48d5-43be-87fe-b13e7d4f899a/resourcegroups/sba_data/workspaces/cloudchronicles\", \"run_id\": \"AutoML_31e33585-da86-4c0e-baea-1d53c39f2372\", \"run_properties\": {\"run_id\": \"AutoML_31e33585-da86-4c0e-baea-1d53c39f2372\", \"created_utc\": \"2021-01-23T08:28:29.112809Z\", \"properties\": {\"num_iterations\": \"1000\", \"training_type\": \"TrainFull\", \"acquisition_function\": \"EI\", \"primary_metric\": \"AUC_weighted\", \"train_split\": \"0\", \"acquisition_parameter\": \"0\", \"num_cross_validation\": \"5\", \"target\": \"local\", \"AMLSettingsJsonString\": \"{\\\"path\\\":null,\\\"name\\\":\\\"sba_loan\\\",\\\"subscription_id\\\":\\\"6fb6d663-48d5-43be-87fe-b13e7d4f899a\\\",\\\"resource_group\\\":\\\"sba_data\\\",\\\"workspace_name\\\":\\\"cloudchronicles\\\",\\\"region\\\":\\\"eastus2\\\",\\\"compute_target\\\":\\\"local\\\",\\\"spark_service\\\":null,\\\"azure_service\\\":\\\"Microsoft.AzureNotebookVM\\\",\\\"many_models\\\":false,\\\"pipeline_fetch_max_batch_size\\\":1,\\\"iterations\\\":1000,\\\"primary_metric\\\":\\\"AUC_weighted\\\",\\\"task_type\\\":\\\"classification\\\",\\\"data_script\\\":null,\\\"validation_size\\\":0.0,\\\"n_cross_validations\\\":5,\\\"y_min\\\":null,\\\"y_max\\\":null,\\\"num_classes\\\":2,\\\"featurization\\\":\\\"auto\\\",\\\"_ignore_package_version_incompatibilities\\\":false,\\\"is_timeseries\\\":false,\\\"max_cores_per_iteration\\\":1,\\\"max_concurrent_iterations\\\":1,\\\"iteration_timeout_minutes\\\":10,\\\"mem_in_mb\\\":null,\\\"enforce_time_on_windows\\\":false,\\\"experiment_timeout_minutes\\\":18,\\\"experiment_exit_score\\\":null,\\\"whitelist_models\\\":null,\\\"blacklist_algos\\\":[\\\"TensorFlowLinearClassifier\\\",\\\"TensorFlowDNN\\\"],\\\"supported_models\\\":[\\\"SGD\\\",\\\"SVM\\\",\\\"TensorFlowLinearClassifier\\\",\\\"TensorFlowDNN\\\",\\\"ExtremeRandomTrees\\\",\\\"LightGBM\\\",\\\"XGBoostClassifier\\\",\\\"MultinomialNaiveBayes\\\",\\\"BernoulliNaiveBayes\\\",\\\"GradientBoosting\\\",\\\"AveragedPerceptronClassifier\\\",\\\"LinearSVM\\\",\\\"RandomForest\\\",\\\"LogisticRegression\\\",\\\"KNN\\\",\\\"DecisionTree\\\"],\\\"auto_blacklist\\\":true,\\\"blacklist_samples_reached\\\":false,\\\"exclude_nan_labels\\\":true,\\\"verbosity\\\":20,\\\"_debug_log\\\":\\\"automated_ml_errors.log\\\",\\\"show_warnings\\\":false,\\\"model_explainability\\\":true,\\\"service_url\\\":null,\\\"sdk_url\\\":null,\\\"sdk_packages\\\":null,\\\"enable_onnx_compatible_models\\\":false,\\\"enable_split_onnx_featurizer_estimator_models\\\":false,\\\"vm_type\\\":null,\\\"telemetry_verbosity\\\":20,\\\"send_telemetry\\\":true,\\\"enable_dnn\\\":false,\\\"scenario\\\":\\\"SDK-1.13.0\\\",\\\"environment_label\\\":null,\\\"force_text_dnn\\\":false,\\\"enable_feature_sweeping\\\":true,\\\"enable_early_stopping\\\":true,\\\"early_stopping_n_iters\\\":10,\\\"metrics\\\":null,\\\"enable_ensembling\\\":true,\\\"enable_stack_ensembling\\\":true,\\\"ensemble_iterations\\\":15,\\\"enable_tf\\\":false,\\\"enable_subsampling\\\":null,\\\"subsample_seed\\\":null,\\\"enable_nimbusml\\\":false,\\\"enable_streaming\\\":false,\\\"force_streaming\\\":false,\\\"track_child_runs\\\":true,\\\"allowed_private_models\\\":[],\\\"label_column_name\\\":\\\"default_status\\\",\\\"weight_column_name\\\":null,\\\"cv_split_column_names\\\":null,\\\"enable_local_managed\\\":false,\\\"_local_managed_run_id\\\":null,\\\"cost_mode\\\":1,\\\"lag_length\\\":0,\\\"metric_operation\\\":\\\"maximize\\\",\\\"preprocess\\\":true}\", \"DataPrepJsonString\": null, \"EnableSubsampling\": null, \"runTemplate\": \"AutoML\", \"azureml.runsource\": \"automl\", \"display_task_type\": \"classification\", \"dependencies_versions\": \"{\\\"azureml-widgets\\\": \\\"1.20.0\\\", \\\"azureml-train\\\": \\\"1.20.0\\\", \\\"azureml-train-restclients-hyperdrive\\\": \\\"1.20.0\\\", \\\"azureml-train-core\\\": \\\"1.20.0\\\", \\\"azureml-train-automl\\\": \\\"1.20.0\\\", \\\"azureml-train-automl-runtime\\\": \\\"1.20.0.post1\\\", \\\"azureml-train-automl-client\\\": \\\"1.20.0\\\", \\\"azureml-tensorboard\\\": \\\"1.19.0\\\", \\\"azureml-telemetry\\\": \\\"1.20.0\\\", \\\"azureml-sdk\\\": \\\"1.20.0\\\", \\\"azureml-samples\\\": \\\"0+unknown\\\", \\\"azureml-pipeline\\\": \\\"1.20.0\\\", \\\"azureml-pipeline-steps\\\": \\\"1.20.0\\\", \\\"azureml-pipeline-core\\\": \\\"1.20.0\\\", \\\"azureml-opendatasets\\\": \\\"1.19.0\\\", \\\"azureml-model-management-sdk\\\": \\\"1.0.1b6.post1\\\", \\\"azureml-mlflow\\\": \\\"1.19.0\\\", \\\"azureml-interpret\\\": \\\"1.20.0\\\", \\\"azureml-explain-model\\\": \\\"1.19.0\\\", \\\"azureml-defaults\\\": \\\"1.20.0\\\", \\\"azureml-dataset-runtime\\\": \\\"1.20.0\\\", \\\"azureml-dataprep\\\": \\\"2.7.1\\\", \\\"azureml-dataprep-rslex\\\": \\\"1.5.0\\\", \\\"azureml-dataprep-native\\\": \\\"27.0.0\\\", \\\"azureml-datadrift\\\": \\\"1.19.0\\\", \\\"azureml-core\\\": \\\"1.20.0\\\", \\\"azureml-contrib-services\\\": \\\"1.19.0\\\", \\\"azureml-contrib-server\\\": \\\"1.19.0\\\", \\\"azureml-contrib-reinforcementlearning\\\": \\\"1.19.0\\\", \\\"azureml-contrib-pipeline-steps\\\": \\\"1.19.0\\\", \\\"azureml-contrib-notebook\\\": \\\"1.19.0\\\", \\\"azureml-contrib-interpret\\\": \\\"1.19.0\\\", \\\"azureml-contrib-gbdt\\\": \\\"1.19.0\\\", \\\"azureml-contrib-fairness\\\": \\\"1.19.0\\\", \\\"azureml-contrib-dataset\\\": \\\"1.19.0\\\", \\\"azureml-cli-common\\\": \\\"1.19.0\\\", \\\"azureml-automl-runtime\\\": \\\"1.20.0\\\", \\\"azureml-automl-core\\\": \\\"1.20.0\\\", \\\"azureml-accel-models\\\": \\\"1.19.0\\\"}\", \"_aml_system_scenario_identification\": \"Local.Parent\", \"ClientSdkVersion\": \"1.20.0\", \"ClientType\": \"SDK\", \"environment_cpu_name\": \"AzureML-AutoML\", \"environment_cpu_label\": \"prod\", \"environment_gpu_name\": \"AzureML-AutoML-GPU\", \"environment_gpu_label\": \"prod\", \"root_attribution\": \"automl\", \"attribution\": \"AutoML\", \"Orchestrator\": \"AutoML\", \"_azureml.ComputeTargetType\": \"local\", \"ProblemInfoJsonString\": \"{\\\"dataset_num_categorical\\\": 0, \\\"is_sparse\\\": true, \\\"subsampling\\\": false, \\\"dataset_classes\\\": 2, \\\"dataset_features\\\": 40, \\\"dataset_samples\\\": 472946, \\\"single_frequency_class_detected\\\": false}\", \"feature_skus\": \"automatedml_sdk_guardrails\"}, \"tags\": {\"model_explain_run\": \"best_run\", \"best_score\": \"0.9749549930915334\", \"best_pipeline\": \"StackEnsemble\", \"automl_best_child_run_id\": \"AutoML_31e33585-da86-4c0e-baea-1d53c39f2372_3\", \"model_explain_best_run_child_id\": \"AutoML_31e33585-da86-4c0e-baea-1d53c39f2372_3\"}, \"end_time_utc\": \"2021-01-23T08:54:04.943031Z\", \"status\": \"Completed\", \"log_files\": {}, \"log_groups\": [], \"run_duration\": \"0:25:35\"}, \"child_runs\": [{\"run_id\": \"AutoML_31e33585-da86-4c0e-baea-1d53c39f2372_0\", \"run_number\": 80, \"metric\": null, \"status\": \"Completed\", \"run_type\": null, \"training_percent\": \"100\", \"start_time\": \"2021-01-23T08:43:34.495982Z\", \"end_time\": \"2021-01-23T08:45:23.407149Z\", \"created_time\": \"2021-01-23T08:43:34.207879Z\", \"created_time_dt\": \"2021-01-23T08:43:34.207879Z\", \"duration\": \"0:01:49\", \"iteration\": \"0\", \"goal\": \"AUC_weighted_max\", \"run_name\": \"MaxAbsScaler, LightGBM\", \"run_properties\": \"copy=True\", \"primary_metric\": 0.9746259, \"best_metric\": 0.9746259}, {\"run_id\": \"AutoML_31e33585-da86-4c0e-baea-1d53c39f2372_1\", \"run_number\": 81, \"metric\": null, \"status\": \"Completed\", \"run_type\": null, \"training_percent\": \"100\", \"start_time\": \"2021-01-23T08:45:24.223176Z\", \"end_time\": \"2021-01-23T08:49:18.521156Z\", \"created_time\": \"2021-01-23T08:45:23.942428Z\", \"created_time_dt\": \"2021-01-23T08:45:23.942428Z\", \"duration\": \"0:03:54\", \"iteration\": \"1\", \"goal\": \"AUC_weighted_max\", \"run_name\": \"MaxAbsScaler, XGBoostClassifier\", \"run_properties\": \"copy=True\", \"primary_metric\": 0.95850456, \"best_metric\": 0.9746259}, {\"run_id\": \"AutoML_31e33585-da86-4c0e-baea-1d53c39f2372_2\", \"run_number\": 82, \"metric\": null, \"status\": \"Completed\", \"run_type\": null, \"training_percent\": \"100\", \"start_time\": \"2021-01-23T08:49:18.884692Z\", \"end_time\": \"2021-01-23T08:50:47.709125Z\", \"created_time\": \"2021-01-23T08:49:18.782063Z\", \"created_time_dt\": \"2021-01-23T08:49:18.782063Z\", \"duration\": \"0:01:28\", \"iteration\": \"2\", \"goal\": \"AUC_weighted_max\", \"run_name\": \"VotingEnsemble\", \"run_properties\": \"classification_labels=None,\\n                              estimators=[('0',\\n                                           Pipeline(memory=None,\\n                                                    steps=[('maxabsscaler',\\n                                                            MaxAbsScaler(copy=True\", \"primary_metric\": 0.9742853, \"best_metric\": 0.9746259}, {\"run_id\": \"AutoML_31e33585-da86-4c0e-baea-1d53c39f2372_3\", \"run_number\": 83, \"metric\": null, \"status\": \"Completed\", \"run_type\": null, \"training_percent\": \"100\", \"start_time\": \"2021-01-23T08:50:48.078049Z\", \"end_time\": \"2021-01-23T08:54:01.702086Z\", \"created_time\": \"2021-01-23T08:50:47.974328Z\", \"created_time_dt\": \"2021-01-23T08:50:47.974328Z\", \"duration\": \"0:03:13\", \"iteration\": \"3\", \"goal\": \"AUC_weighted_max\", \"run_name\": \"StackEnsemble\", \"run_properties\": \"base_learners=[('0',\\n                                        Pipeline(memory=None,\\n                                                 steps=[('maxabsscaler',\\n                                                         MaxAbsScaler(copy=True\", \"primary_metric\": 0.97495499, \"best_metric\": 0.97495499}], \"children_metrics\": {\"categories\": [0], \"series\": {\"recall_score_weighted\": [{\"categories\": [\"0\", \"1\", \"2\", \"3\"], \"mode\": \"markers\", \"name\": \"recall_score_weighted\", \"stepped\": false, \"type\": \"scatter\", \"data\": [0.9433085378490664, 0.9281122991879924, 0.9430104063780472, 0.9434480883337649]}, {\"categories\": [\"0\", \"1\", \"2\", \"3\"], \"mode\": \"lines\", \"name\": \"recall_score_weighted_max\", \"stepped\": true, \"type\": \"scatter\", \"data\": [0.9433085378490664, 0.9433085378490664, 0.9433085378490664, 0.9434480883337649]}], \"accuracy\": [{\"categories\": [\"0\", \"1\", \"2\", \"3\"], \"mode\": \"markers\", \"name\": \"accuracy\", \"stepped\": false, \"type\": \"scatter\", \"data\": [0.9433085378490664, 0.9281122991879924, 0.9430104063780472, 0.9434480883337649]}, {\"categories\": [\"0\", \"1\", \"2\", \"3\"], \"mode\": \"lines\", \"name\": \"accuracy_max\", \"stepped\": true, \"type\": \"scatter\", \"data\": [0.9433085378490664, 0.9433085378490664, 0.9433085378490664, 0.9434480883337649]}], \"average_precision_score_macro\": [{\"categories\": [\"0\", \"1\", \"2\", \"3\"], \"mode\": \"markers\", \"name\": \"average_precision_score_macro\", \"stepped\": false, \"type\": \"scatter\", \"data\": [0.9521339241666101, 0.9265233911440379, 0.951551673127844, 0.9523720972239709]}, {\"categories\": [\"0\", \"1\", \"2\", \"3\"], \"mode\": \"lines\", \"name\": \"average_precision_score_macro_max\", \"stepped\": true, \"type\": \"scatter\", \"data\": [0.9521339241666101, 0.9521339241666101, 0.9521339241666101, 0.9523720972239709]}], \"balanced_accuracy\": [{\"categories\": [\"0\", \"1\", \"2\", \"3\"], \"mode\": \"markers\", \"name\": \"balanced_accuracy\", \"stepped\": false, \"type\": \"scatter\", \"data\": [0.8895406651950621, 0.8508216758774386, 0.8882244775148065, 0.8890216872100296]}, {\"categories\": [\"0\", \"1\", \"2\", \"3\"], \"mode\": \"lines\", \"name\": \"balanced_accuracy_max\", \"stepped\": true, \"type\": \"scatter\", \"data\": [0.8895406651950621, 0.8895406651950621, 0.8895406651950621, 0.8895406651950621]}], \"recall_score_micro\": [{\"categories\": [\"0\", \"1\", \"2\", \"3\"], \"mode\": \"markers\", \"name\": \"recall_score_micro\", \"stepped\": false, \"type\": \"scatter\", \"data\": [0.9433085378490664, 0.9281122991879924, 0.9430104063780472, 0.9434480883337649]}, {\"categories\": [\"0\", \"1\", \"2\", \"3\"], \"mode\": \"lines\", \"name\": \"recall_score_micro_max\", \"stepped\": true, \"type\": \"scatter\", \"data\": [0.9433085378490664, 0.9433085378490664, 0.9433085378490664, 0.9434480883337649]}], \"precision_score_micro\": [{\"categories\": [\"0\", \"1\", \"2\", \"3\"], \"mode\": \"markers\", \"name\": \"precision_score_micro\", \"stepped\": false, \"type\": \"scatter\", \"data\": [0.9433085378490664, 0.9281122991879924, 0.9430104063780472, 0.9434480883337649]}, {\"categories\": [\"0\", \"1\", \"2\", \"3\"], \"mode\": \"lines\", \"name\": \"precision_score_micro_max\", \"stepped\": true, \"type\": \"scatter\", \"data\": [0.9433085378490664, 0.9433085378490664, 0.9433085378490664, 0.9434480883337649]}], \"precision_score_weighted\": [{\"categories\": [\"0\", \"1\", \"2\", \"3\"], \"mode\": \"markers\", \"name\": \"precision_score_weighted\", \"stepped\": false, \"type\": \"scatter\", \"data\": [0.9420923554104584, 0.9258642419302158, 0.9417588279583675, 0.9422167562995238]}, {\"categories\": [\"0\", \"1\", \"2\", \"3\"], \"mode\": \"lines\", \"name\": \"precision_score_weighted_max\", \"stepped\": true, \"type\": \"scatter\", \"data\": [0.9420923554104584, 0.9420923554104584, 0.9420923554104584, 0.9422167562995238]}], \"recall_score_macro\": [{\"categories\": [\"0\", \"1\", \"2\", \"3\"], \"mode\": \"markers\", \"name\": \"recall_score_macro\", \"stepped\": false, \"type\": \"scatter\", \"data\": [0.8895406651950621, 0.8508216758774386, 0.8882244775148065, 0.8890216872100296]}, {\"categories\": [\"0\", \"1\", \"2\", \"3\"], \"mode\": \"lines\", \"name\": \"recall_score_macro_max\", \"stepped\": true, \"type\": \"scatter\", \"data\": [0.8895406651950621, 0.8895406651950621, 0.8895406651950621, 0.8895406651950621]}], \"AUC_weighted\": [{\"categories\": [\"0\", \"1\", \"2\", \"3\"], \"mode\": \"markers\", \"name\": \"AUC_weighted\", \"stepped\": false, \"type\": \"scatter\", \"data\": [0.9746259033765716, 0.9585045575967943, 0.9742852958595547, 0.9749549930915334]}, {\"categories\": [\"0\", \"1\", \"2\", \"3\"], \"mode\": \"lines\", \"name\": \"AUC_weighted_max\", \"stepped\": true, \"type\": \"scatter\", \"data\": [0.9746259033765716, 0.9746259033765716, 0.9746259033765716, 0.9749549930915334]}], \"f1_score_macro\": [{\"categories\": [\"0\", \"1\", \"2\", \"3\"], \"mode\": \"markers\", \"name\": \"f1_score_macro\", \"stepped\": false, \"type\": \"scatter\", \"data\": [0.902804538707003, 0.8730678570259028, 0.9021229372678752, 0.9028879480191223]}, {\"categories\": [\"0\", \"1\", \"2\", \"3\"], \"mode\": \"lines\", \"name\": \"f1_score_macro_max\", \"stepped\": true, \"type\": \"scatter\", \"data\": [0.902804538707003, 0.902804538707003, 0.902804538707003, 0.9028879480191223]}], \"f1_score_micro\": [{\"categories\": [\"0\", \"1\", \"2\", \"3\"], \"mode\": \"markers\", \"name\": \"f1_score_micro\", \"stepped\": false, \"type\": \"scatter\", \"data\": [0.9433085378490664, 0.9281122991879924, 0.9430104063780472, 0.9434480883337649]}, {\"categories\": [\"0\", \"1\", \"2\", \"3\"], \"mode\": \"lines\", \"name\": \"f1_score_micro_max\", \"stepped\": true, \"type\": \"scatter\", \"data\": [0.9433085378490664, 0.9433085378490664, 0.9433085378490664, 0.9434480883337649]}], \"precision_score_macro\": [{\"categories\": [\"0\", \"1\", \"2\", \"3\"], \"mode\": \"markers\", \"name\": \"precision_score_macro\", \"stepped\": false, \"type\": \"scatter\", \"data\": [0.9178424026128587, 0.9012586698743099, 0.9179819988363196, 0.9187041566196431]}, {\"categories\": [\"0\", \"1\", \"2\", \"3\"], \"mode\": \"lines\", \"name\": \"precision_score_macro_max\", \"stepped\": true, \"type\": \"scatter\", \"data\": [0.9178424026128587, 0.9178424026128587, 0.9179819988363196, 0.9187041566196431]}], \"weighted_accuracy\": [{\"categories\": [\"0\", \"1\", \"2\", \"3\"], \"mode\": \"markers\", \"name\": \"weighted_accuracy\", \"stepped\": false, \"type\": \"scatter\", \"data\": [0.9665422201962258, 0.9615102376706905, 0.9666842854033397, 0.9669664098651685]}, {\"categories\": [\"0\", \"1\", \"2\", \"3\"], \"mode\": \"lines\", \"name\": \"weighted_accuracy_max\", \"stepped\": true, \"type\": \"scatter\", \"data\": [0.9665422201962258, 0.9665422201962258, 0.9666842854033397, 0.9669664098651685]}], \"log_loss\": [{\"categories\": [\"0\", \"1\", \"2\", \"3\"], \"mode\": \"markers\", \"name\": \"log_loss\", \"stepped\": false, \"type\": \"scatter\", \"data\": [0.1513569785963837, 0.19915024835882872, 0.1531089787534781, 0.16215026559656331]}, {\"categories\": [\"0\", \"1\", \"2\", \"3\"], \"mode\": \"lines\", \"name\": \"log_loss_min\", \"stepped\": true, \"type\": \"scatter\", \"data\": [0.1513569785963837, 0.1513569785963837, 0.1513569785963837, 0.1513569785963837]}], \"average_precision_score_micro\": [{\"categories\": [\"0\", \"1\", \"2\", \"3\"], \"mode\": \"markers\", \"name\": \"average_precision_score_micro\", \"stepped\": false, \"type\": \"scatter\", \"data\": [0.9859038302732026, 0.9772428205461882, 0.9857104566766767, 0.9858560432813149]}, {\"categories\": [\"0\", \"1\", \"2\", \"3\"], \"mode\": \"lines\", \"name\": \"average_precision_score_micro_max\", \"stepped\": true, \"type\": \"scatter\", \"data\": [0.9859038302732026, 0.9859038302732026, 0.9859038302732026, 0.9859038302732026]}], \"matthews_correlation\": [{\"categories\": [\"0\", \"1\", \"2\", \"3\"], \"mode\": \"markers\", \"name\": \"matthews_correlation\", \"stepped\": false, \"type\": \"scatter\", \"data\": [0.8068851711801124, 0.7503869384732761, 0.8056553563879657, 0.8071775039473206]}, {\"categories\": [\"0\", \"1\", \"2\", \"3\"], \"mode\": \"lines\", \"name\": \"matthews_correlation_max\", \"stepped\": true, \"type\": \"scatter\", \"data\": [0.8068851711801124, 0.8068851711801124, 0.8068851711801124, 0.8071775039473206]}], \"norm_macro_recall\": [{\"categories\": [\"0\", \"1\", \"2\", \"3\"], \"mode\": \"markers\", \"name\": \"norm_macro_recall\", \"stepped\": false, \"type\": \"scatter\", \"data\": [0.7790813303901242, 0.7016433517548774, 0.776448955029613, 0.7780433744200593]}, {\"categories\": [\"0\", \"1\", \"2\", \"3\"], \"mode\": \"lines\", \"name\": \"norm_macro_recall_max\", \"stepped\": true, \"type\": \"scatter\", \"data\": [0.7790813303901242, 0.7790813303901242, 0.7790813303901242, 0.7790813303901242]}], \"AUC_macro\": [{\"categories\": [\"0\", \"1\", \"2\", \"3\"], \"mode\": \"markers\", \"name\": \"AUC_macro\", \"stepped\": false, \"type\": \"scatter\", \"data\": [0.9746259033765717, 0.9585045613579715, 0.9742852957656917, 0.9749549930915334]}, {\"categories\": [\"0\", \"1\", \"2\", \"3\"], \"mode\": \"lines\", \"name\": \"AUC_macro_max\", \"stepped\": true, \"type\": \"scatter\", \"data\": [0.9746259033765717, 0.9746259033765717, 0.9746259033765717, 0.9749549930915334]}], \"average_precision_score_weighted\": [{\"categories\": [\"0\", \"1\", \"2\", \"3\"], \"mode\": \"markers\", \"name\": \"average_precision_score_weighted\", \"stepped\": false, \"type\": \"scatter\", \"data\": [0.9781885765173941, 0.966067818473961, 0.9779120918592442, 0.9782876882135494]}, {\"categories\": [\"0\", \"1\", \"2\", \"3\"], \"mode\": \"lines\", \"name\": \"average_precision_score_weighted_max\", \"stepped\": true, \"type\": \"scatter\", \"data\": [0.9781885765173941, 0.9781885765173941, 0.9781885765173941, 0.9782876882135494]}], \"f1_score_weighted\": [{\"categories\": [\"0\", \"1\", \"2\", \"3\"], \"mode\": \"markers\", \"name\": \"f1_score_weighted\", \"stepped\": false, \"type\": \"scatter\", \"data\": [0.9423155027721769, 0.9257056344856032, 0.9419594105899016, 0.9424095802997934]}, {\"categories\": [\"0\", \"1\", \"2\", \"3\"], \"mode\": \"lines\", \"name\": \"f1_score_weighted_max\", \"stepped\": true, \"type\": \"scatter\", \"data\": [0.9423155027721769, 0.9423155027721769, 0.9423155027721769, 0.9424095802997934]}], \"AUC_micro\": [{\"categories\": [\"0\", \"1\", \"2\", \"3\"], \"mode\": \"markers\", \"name\": \"AUC_micro\", \"stepped\": false, \"type\": \"scatter\", \"data\": [0.9858541650136547, 0.9770374129515778, 0.9856637334081281, 0.9859121799314732]}, {\"categories\": [\"0\", \"1\", \"2\", \"3\"], \"mode\": \"lines\", \"name\": \"AUC_micro_max\", \"stepped\": true, \"type\": \"scatter\", \"data\": [0.9858541650136547, 0.9858541650136547, 0.9858541650136547, 0.9859121799314732]}]}, \"metricName\": null, \"primaryMetricName\": \"AUC_weighted\", \"showLegend\": false}, \"run_metrics\": [{\"name\": \"norm_macro_recall\", \"run_id\": \"AutoML_31e33585-da86-4c0e-baea-1d53c39f2372\", \"categories\": [0], \"series\": [{\"data\": [0.7780433744200593]}]}, {\"name\": \"log_loss\", \"run_id\": \"AutoML_31e33585-da86-4c0e-baea-1d53c39f2372\", \"categories\": [0], \"series\": [{\"data\": [0.16215026559656331]}]}, {\"name\": \"f1_score_weighted\", \"run_id\": \"AutoML_31e33585-da86-4c0e-baea-1d53c39f2372\", \"categories\": [0], \"series\": [{\"data\": [0.9424095802997934]}]}, {\"name\": \"balanced_accuracy\", \"run_id\": \"AutoML_31e33585-da86-4c0e-baea-1d53c39f2372\", \"categories\": [0], \"series\": [{\"data\": [0.8890216872100296]}]}, {\"name\": \"precision_score_weighted\", \"run_id\": \"AutoML_31e33585-da86-4c0e-baea-1d53c39f2372\", \"categories\": [0], \"series\": [{\"data\": [0.9422167562995238]}]}, {\"name\": \"accuracy\", \"run_id\": \"AutoML_31e33585-da86-4c0e-baea-1d53c39f2372\", \"categories\": [0], \"series\": [{\"data\": [0.9434480883337649]}]}, {\"name\": \"precision_score_macro\", \"run_id\": \"AutoML_31e33585-da86-4c0e-baea-1d53c39f2372\", \"categories\": [0], \"series\": [{\"data\": [0.9187041566196431]}]}, {\"name\": \"f1_score_micro\", \"run_id\": \"AutoML_31e33585-da86-4c0e-baea-1d53c39f2372\", \"categories\": [0], \"series\": [{\"data\": [0.9434480883337649]}]}, {\"name\": \"recall_score_micro\", \"run_id\": \"AutoML_31e33585-da86-4c0e-baea-1d53c39f2372\", \"categories\": [0], \"series\": [{\"data\": [0.9434480883337649]}]}, {\"name\": \"f1_score_macro\", \"run_id\": \"AutoML_31e33585-da86-4c0e-baea-1d53c39f2372\", \"categories\": [0], \"series\": [{\"data\": [0.9028879480191223]}]}, {\"name\": \"AUC_macro\", \"run_id\": \"AutoML_31e33585-da86-4c0e-baea-1d53c39f2372\", \"categories\": [0], \"series\": [{\"data\": [0.9749549930915334]}]}, {\"name\": \"AUC_weighted\", \"run_id\": \"AutoML_31e33585-da86-4c0e-baea-1d53c39f2372\", \"categories\": [0], \"series\": [{\"data\": [0.9749549930915334]}]}, {\"name\": \"recall_score_macro\", \"run_id\": \"AutoML_31e33585-da86-4c0e-baea-1d53c39f2372\", \"categories\": [0], \"series\": [{\"data\": [0.8890216872100296]}]}, {\"name\": \"average_precision_score_weighted\", \"run_id\": \"AutoML_31e33585-da86-4c0e-baea-1d53c39f2372\", \"categories\": [0], \"series\": [{\"data\": [0.9782876882135494]}]}, {\"name\": \"average_precision_score_micro\", \"run_id\": \"AutoML_31e33585-da86-4c0e-baea-1d53c39f2372\", \"categories\": [0], \"series\": [{\"data\": [0.9858560432813149]}]}, {\"name\": \"precision_score_micro\", \"run_id\": \"AutoML_31e33585-da86-4c0e-baea-1d53c39f2372\", \"categories\": [0], \"series\": [{\"data\": [0.9434480883337649]}]}, {\"name\": \"matthews_correlation\", \"run_id\": \"AutoML_31e33585-da86-4c0e-baea-1d53c39f2372\", \"categories\": [0], \"series\": [{\"data\": [0.8071775039473206]}]}, {\"name\": \"weighted_accuracy\", \"run_id\": \"AutoML_31e33585-da86-4c0e-baea-1d53c39f2372\", \"categories\": [0], \"series\": [{\"data\": [0.9669664098651685]}]}, {\"name\": \"AUC_micro\", \"run_id\": \"AutoML_31e33585-da86-4c0e-baea-1d53c39f2372\", \"categories\": [0], \"series\": [{\"data\": [0.9859121799314732]}]}, {\"name\": \"average_precision_score_macro\", \"run_id\": \"AutoML_31e33585-da86-4c0e-baea-1d53c39f2372\", \"categories\": [0], \"series\": [{\"data\": [0.9523720972239709]}]}, {\"name\": \"recall_score_weighted\", \"run_id\": \"AutoML_31e33585-da86-4c0e-baea-1d53c39f2372\", \"categories\": [0], \"series\": [{\"data\": [0.9434480883337649]}]}], \"run_logs\": \"\\nRun is completed.\", \"graph\": {}, \"widget_settings\": {\"childWidgetDisplay\": \"popup\", \"send_telemetry\": false, \"log_level\": \"INFO\", \"sdk_version\": \"1.20.0\"}, \"loading\": false}"
     },
     "metadata": {},
     "output_type": "display_data"
    }
   ],
   "source": [
    "from azureml.widgets import RunDetails\n",
    "RunDetails(local_run).show()"
   ]
  },
  {
   "cell_type": "markdown",
   "metadata": {},
   "source": [
    "### Retrieve the best model"
   ]
  },
  {
   "cell_type": "markdown",
   "metadata": {},
   "source": [
    "Select the best model from your iterations. The `get_output` function returns the best run and the fitted model for the last fit invocation. By using the overloads on `get_output`, you can retrieve the best run and fitted model for any logged metric or a particular iteration."
   ]
  },
  {
   "cell_type": "code",
   "execution_count": 61,
   "metadata": {
    "gather": {
     "logged": 1611244676395
    }
   },
   "outputs": [
    {
     "name": "stdout",
     "output_type": "stream",
     "text": [
      "Run(Experiment: sba_loan,\n",
      "Id: AutoML_dc93ea92-93ec-416a-a573-2f09a3b5bd68_1,\n",
      "Type: None,\n",
      "Status: Completed)\n",
      "Pipeline(memory=None,\n",
      "         steps=[('datatransformer',\n",
      "                 DataTransformer(enable_dnn=None, enable_feature_sweeping=None,\n",
      "                                 feature_sweeping_config=None,\n",
      "                                 feature_sweeping_timeout=None,\n",
      "                                 featurization_config=None, force_text_dnn=None,\n",
      "                                 is_cross_validation=None,\n",
      "                                 is_onnx_compatible=None, logger=None,\n",
      "                                 observer=None, task=None, working_dir=None)),\n",
      "                ('MaxAbsScaler', MaxAbsScaler(copy...\n",
      "                                   colsample_bylevel=1, colsample_bynode=1,\n",
      "                                   colsample_bytree=1, gamma=0,\n",
      "                                   learning_rate=0.1, max_delta_step=0,\n",
      "                                   max_depth=3, min_child_weight=1, missing=nan,\n",
      "                                   n_estimators=100, n_jobs=1, nthread=None,\n",
      "                                   objective='binary:logistic', random_state=0,\n",
      "                                   reg_alpha=0, reg_lambda=1,\n",
      "                                   scale_pos_weight=1, seed=None, silent=None,\n",
      "                                   subsample=1, tree_method='auto', verbose=-10,\n",
      "                                   verbosity=0))],\n",
      "         verbose=False)\n"
     ]
    }
   ],
   "source": [
    "best_run, fitted_model = local_run.get_output()\n",
    "print(best_run)\n",
    "print(fitted_model)"
   ]
  },
  {
   "cell_type": "markdown",
   "metadata": {},
   "source": [
    "### Test the best model accuracy"
   ]
  },
  {
   "cell_type": "markdown",
   "metadata": {},
   "source": [
    "Use the best model to run predictions on the test data set to predict taxi fares. The function `predict` uses the best model and predicts the values of y, **trip cost**, from the `x_test` data set. Print the first 10 predicted cost values from `y_predict`."
   ]
  },
  {
   "cell_type": "code",
   "execution_count": 64,
   "metadata": {
    "gather": {
     "logged": 1611155939989
    }
   },
   "outputs": [
    {
     "name": "stdout",
     "output_type": "stream",
     "text": [
      "[0 1 0 0 0 1 0 0 0 0]\n"
     ]
    }
   ],
   "source": [
    "y_test = x_test.pop(\"default_status\")\n",
    "\n",
    "y_predict = fitted_model.predict(x_test)\n",
    "print(y_predict[:10])"
   ]
  },
  {
   "cell_type": "code",
   "execution_count": 65,
   "metadata": {
    "collapsed": true,
    "gather": {
     "logged": 1611156101505
    },
    "jupyter": {
     "outputs_hidden": false,
     "source_hidden": false
    },
    "nteract": {
     "transient": {
      "deleting": false
     }
    }
   },
   "outputs": [
    {
     "name": "stdout",
     "output_type": "stream",
     "text": [
      "{'precision_score_macro': 0.9853253590077333, 'recall_score_macro': 0.9937524633144076, 'AUC_micro': 0.9990718620211689, 'AUC_macro': 0.9981316560161868, 'f1_score_micro': 0.9935933482528384, 'log_loss': 0.02802761589445259, 'average_precision_score_weighted': 0.9977573460849968, 'matthews_correlation': 0.9790413632193523, 'f1_score_macro': 0.989473824514916, 'accuracy': 0.9935933482528384, 'norm_macro_recall': 0.9875049266288152, 'weighted_accuracy': 0.9935248413902121, 'average_precision_score_macro': 0.9946340754560712, 'precision_score_weighted': 0.9937051533131868, 'f1_score_weighted': 0.9936209871924658, 'precision_score_micro': 0.9935933482528384, 'AUC_weighted': 0.9981316549442159, 'average_precision_score_micro': 0.9990871998555569, 'recall_score_weighted': 0.9935933482528384, 'balanced_accuracy': 0.9937524633144076, 'recall_score_micro': 0.9935933482528384}\n"
     ]
    }
   ],
   "source": [
    "print(local_run.get_metrics())"
   ]
  },
  {
   "cell_type": "code",
   "execution_count": 66,
   "metadata": {
    "collapsed": true,
    "gather": {
     "logged": 1611156209953
    },
    "jupyter": {
     "outputs_hidden": false,
     "source_hidden": false
    },
    "nteract": {
     "transient": {
      "deleting": false
     }
    }
   },
   "outputs": [
    {
     "name": "stdout",
     "output_type": "stream",
     "text": [
      "['outputs/verifier_results.json']\n"
     ]
    }
   ],
   "source": [
    "print(local_run.get_file_names())"
   ]
  },
  {
   "cell_type": "code",
   "execution_count": null,
   "metadata": {
    "collapsed": true,
    "jupyter": {
     "outputs_hidden": false,
     "source_hidden": false
    },
    "nteract": {
     "transient": {
      "deleting": false
     }
    }
   },
   "outputs": [],
   "source": [
    "import json\n",
    "test = json.dumps({\"data\": X_test.tolist()})\n",
    "test = bytes(test, encoding='utf8')\n",
    "y_hat = service.run(input_data=test)"
   ]
  },
  {
   "cell_type": "code",
   "execution_count": 51,
   "metadata": {
    "collapsed": true,
    "gather": {
     "logged": 1611240864526
    },
    "jupyter": {
     "outputs_hidden": false,
     "source_hidden": false
    },
    "nteract": {
     "transient": {
      "deleting": false
     }
    }
   },
   "outputs": [
    {
     "data": {
      "text/html": [
       "<div>\n",
       "<style scoped>\n",
       "    .dataframe tbody tr th:only-of-type {\n",
       "        vertical-align: middle;\n",
       "    }\n",
       "\n",
       "    .dataframe tbody tr th {\n",
       "        vertical-align: top;\n",
       "    }\n",
       "\n",
       "    .dataframe thead th {\n",
       "        text-align: right;\n",
       "    }\n",
       "</style>\n",
       "<table border=\"1\" class=\"dataframe\">\n",
       "  <thead>\n",
       "    <tr style=\"text-align: right;\">\n",
       "      <th></th>\n",
       "      <th>Term</th>\n",
       "      <th>NoEmp</th>\n",
       "      <th>NewExist</th>\n",
       "      <th>CreateJob</th>\n",
       "      <th>RetainedJob</th>\n",
       "      <th>UrbanRural</th>\n",
       "      <th>RevLineCr</th>\n",
       "      <th>LowDoc</th>\n",
       "      <th>DisbursementGross</th>\n",
       "      <th>BalanceGross</th>\n",
       "      <th>ChgOffPrinGr</th>\n",
       "      <th>GrAppv</th>\n",
       "      <th>SBA_Appv</th>\n",
       "      <th>default_status</th>\n",
       "      <th>Industry</th>\n",
       "      <th>IsFranchise</th>\n",
       "      <th>RealEstate</th>\n",
       "      <th>Recession</th>\n",
       "      <th>same_bankstate</th>\n",
       "      <th>Daystodisbursement</th>\n",
       "    </tr>\n",
       "  </thead>\n",
       "  <tbody>\n",
       "    <tr>\n",
       "      <th>79602</th>\n",
       "      <td>36</td>\n",
       "      <td>3</td>\n",
       "      <td>1</td>\n",
       "      <td>0</td>\n",
       "      <td>3</td>\n",
       "      <td>1</td>\n",
       "      <td>0</td>\n",
       "      <td>0</td>\n",
       "      <td>51000.0</td>\n",
       "      <td>0.0</td>\n",
       "      <td>0.0</td>\n",
       "      <td>51000.0</td>\n",
       "      <td>43350.0</td>\n",
       "      <td>0</td>\n",
       "      <td>Admin_sup/Waste_Mgmt_Rem</td>\n",
       "      <td>0</td>\n",
       "      <td>0</td>\n",
       "      <td>1</td>\n",
       "      <td>0</td>\n",
       "      <td>67</td>\n",
       "    </tr>\n",
       "    <tr>\n",
       "      <th>821077</th>\n",
       "      <td>68</td>\n",
       "      <td>1</td>\n",
       "      <td>1</td>\n",
       "      <td>16</td>\n",
       "      <td>17</td>\n",
       "      <td>1</td>\n",
       "      <td>1</td>\n",
       "      <td>0</td>\n",
       "      <td>15000.0</td>\n",
       "      <td>0.0</td>\n",
       "      <td>13324.0</td>\n",
       "      <td>15000.0</td>\n",
       "      <td>7500.0</td>\n",
       "      <td>1</td>\n",
       "      <td>Other_no_pub</td>\n",
       "      <td>0</td>\n",
       "      <td>0</td>\n",
       "      <td>1</td>\n",
       "      <td>0</td>\n",
       "      <td>39</td>\n",
       "    </tr>\n",
       "  </tbody>\n",
       "</table>\n",
       "</div>"
      ],
      "text/plain": [
       "0       Term  NoEmp  NewExist  CreateJob  RetainedJob UrbanRural  RevLineCr  \\\n",
       "79602     36      3         1          0            3          1          0   \n",
       "821077    68      1         1         16           17          1          1   \n",
       "\n",
       "0       LowDoc  DisbursementGross  BalanceGross  ChgOffPrinGr   GrAppv  \\\n",
       "79602        0            51000.0           0.0           0.0  51000.0   \n",
       "821077       0            15000.0           0.0       13324.0  15000.0   \n",
       "\n",
       "0       SBA_Appv  default_status                  Industry  IsFranchise  \\\n",
       "79602    43350.0               0  Admin_sup/Waste_Mgmt_Rem            0   \n",
       "821077    7500.0               1              Other_no_pub            0   \n",
       "\n",
       "0       RealEstate  Recession  same_bankstate  Daystodisbursement  \n",
       "79602            0          1               0                  67  \n",
       "821077           0          1               0                  39  "
      ]
     },
     "execution_count": 51,
     "metadata": {},
     "output_type": "execute_result"
    }
   ],
   "source": [
    "x_test = x_test.head(2)\n",
    "x_test"
   ]
  },
  {
   "cell_type": "code",
   "execution_count": 67,
   "metadata": {
    "collapsed": true,
    "gather": {
     "logged": 1611251987488
    },
    "jupyter": {
     "outputs_hidden": false,
     "source_hidden": false
    },
    "nteract": {
     "transient": {
      "deleting": false
     }
    }
   },
   "outputs": [
    {
     "name": "stdout",
     "output_type": "stream",
     "text": [
      "{\"data\": [[1004285007, \"SIMPLEX OFFICE SOLUTIONS\", \"ANAHEIM\", \"CA\", 92801, \"CALIFORNIA BANK & TRUST\", \"CA\", 532420, 15074, 2001, 36, 1, 1, 0, 0, 1, 0, \"Y\", \"N\", 17799, 15095, 32812, 0, \"P I F\", 0, 30000, 15000, 0, 0, 0.5, 0, 1080, 16175, 0]]}\n",
      "Length mismatch: Expected axis has 34 elements, new values have 19 elements\n",
      "Help: https://go.microsoft.com/fwlink/?linkid=2146748\n"
     ]
    }
   ],
   "source": [
    "import requests\n",
    "import json\n",
    "\n",
    "# URL for the web service\n",
    "scoring_uri = 'http://52.187.233.80:80/api/v1/service/sbaloanpredict/score'\n",
    "# If the service is authenticated, set the key or token\n",
    "key = '<your key or token>'\n",
    "\n",
    "# Two sets of data to score, so we get two results back\n",
    "data = {\"data\":\n",
    "            [\n",
    "                [\n",
    "                1004285007,\n",
    "                \"SIMPLEX OFFICE SOLUTIONS\",\n",
    "                \"ANAHEIM\",\n",
    "                \"CA\",\n",
    "                92801,\n",
    "                \"CALIFORNIA BANK & TRUST\",\n",
    "                \"CA\",\n",
    "                532420,\n",
    "                15074,\n",
    "                2001,\n",
    "                36,\n",
    "                1,\n",
    "                1,\n",
    "                0,\n",
    "                0,\n",
    "                1,\n",
    "                0,\n",
    "                \"Y\",\n",
    "                \"N\", \n",
    "                17799,\n",
    "                15095,\n",
    "                32812,\n",
    "                0,\n",
    "                \"P I F\",\n",
    "                0,\n",
    "                30000,\n",
    "                15000,\n",
    "                0,\n",
    "                0,\n",
    "                0.5,\n",
    "                0,\n",
    "                1080,\n",
    "                16175,\n",
    "                0\n",
    "                ]\n",
    "            ]\n",
    "        }\n",
    "# Convert to JSON string\n",
    "#x_test_list = [x_test.columns.values.tolist()] + x_test.values.tolist()\n",
    "#input_data = json.dumps({\"data\": x_test_list})\n",
    "input_data = json.dumps(data)\n",
    "print(input_data)\n",
    "# Set the content type\n",
    "headers = {'Content-Type': 'application/json'}\n",
    "# If authentication is enabled, set the authorization header\n",
    "#headers['Authorization'] = f'Bearer {key}'\n",
    "\n",
    "# Make the request and display the response\n",
    "resp = requests.post(scoring_uri, input_data, headers=headers)\n",
    "#resp = requests.post(scoring_uri, input_data)\n",
    "print(resp.text)"
   ]
  },
  {
   "cell_type": "code",
   "execution_count": 68,
   "metadata": {
    "collapsed": true,
    "gather": {
     "logged": 1611252379151
    },
    "jupyter": {
     "outputs_hidden": false,
     "source_hidden": false
    },
    "nteract": {
     "transient": {
      "deleting": false
     }
    }
   },
   "outputs": [
    {
     "name": "stdout",
     "output_type": "stream",
     "text": [
      "sbaloanpredict\n",
      "loanpredictor\n",
      "sbadata\n",
      "sbamodel\n"
     ]
    }
   ],
   "source": [
    "for webservice_name in ws.webservices:\n",
    "    print(webservice_name)"
   ]
  },
  {
   "cell_type": "code",
   "execution_count": null,
   "metadata": {
    "collapsed": true,
    "jupyter": {
     "outputs_hidden": false,
     "source_hidden": false
    },
    "nteract": {
     "transient": {
      "deleting": false
     }
    }
   },
   "outputs": [],
   "source": [
    "import json\n",
    "\n",
    "x_new = [[1000014003,\"ABC HOBBYCRAFT\",\"EVANSVILLE\",IN,47711,\"FIFTH THIRD BANK\",OH,451120,1997-02-28T00:00:00Z,1997,84,4,2,null,null,1,null,N,true,null,1999-02-28T00:00:00Z,60,000.00,0.00,P I F,0.00,60,000.00,48,000.00]]\n",
    "print ('Patient: {}'.format(x_new[0]))\n",
    "\n",
    "# Convert the array to a serializable list in a JSON document\n",
    "input_json = json.dumps({\"data\": x_new})\n",
    "\n",
    "# Call the web service, passing the input data (the web service will also accept the data in binary format)\n",
    "predictions = service.run(input_data = input_json)\n",
    "\n",
    "# Get the predicted class - it'll be the first (and only) one.\n",
    "predicted_classes = json.loads(predictions)\n",
    "print(predicted_classes[0])"
   ]
  },
  {
   "cell_type": "markdown",
   "metadata": {
    "nteract": {
     "transient": {
      "deleting": false
     }
    }
   },
   "source": [
    "### Transparency\n",
    "\n",
    "View updated featurization summary\n"
   ]
  },
  {
   "cell_type": "code",
   "execution_count": null,
   "metadata": {
    "collapsed": true,
    "gather": {
     "logged": 1610643774159
    },
    "jupyter": {
     "outputs_hidden": true,
     "source_hidden": false
    },
    "nteract": {
     "transient": {
      "deleting": false
     }
    }
   },
   "outputs": [],
   "source": [
    "custom_featurizer = fitted_model.named_steps['datatransformer']\n",
    "df = custom_featurizer.get_featurization_summary()\n",
    "pd.DataFrame(data=df)"
   ]
  },
  {
   "cell_type": "code",
   "execution_count": null,
   "metadata": {
    "collapsed": true,
    "gather": {
     "logged": 1610643833691
    },
    "jupyter": {
     "outputs_hidden": true,
     "source_hidden": false
    },
    "nteract": {
     "transient": {
      "deleting": false
     }
    }
   },
   "outputs": [],
   "source": [
    "df = custom_featurizer.get_featurization_summary(is_user_friendly=False)\n",
    "pd.DataFrame(data=df)"
   ]
  },
  {
   "cell_type": "code",
   "execution_count": null,
   "metadata": {
    "collapsed": true,
    "gather": {
     "logged": 1610643889210
    },
    "jupyter": {
     "outputs_hidden": true,
     "source_hidden": false
    },
    "nteract": {
     "transient": {
      "deleting": false
     }
    }
   },
   "outputs": [],
   "source": [
    "df = custom_featurizer.get_stats_feature_type_summary()\n",
    "pd.DataFrame(data=df)"
   ]
  },
  {
   "cell_type": "markdown",
   "metadata": {},
   "source": [
    "Calculate the `root mean squared error` of the results. Convert the `y_test` dataframe to a list to compare to the predicted values. The function `mean_squared_error` takes two arrays of values and calculates the average squared error between them. Taking the square root of the result gives an error in the same units as the y variable, **cost**. It indicates roughly how far the taxi fare predictions are from the actual fares."
   ]
  },
  {
   "cell_type": "code",
   "execution_count": null,
   "metadata": {},
   "outputs": [],
   "source": [
    "from sklearn.metrics import mean_squared_error\n",
    "from math import sqrt\n",
    "\n",
    "y_actual = y_test.values.flatten().tolist()\n",
    "rmse = sqrt(mean_squared_error(y_actual, y_predict))\n",
    "rmse"
   ]
  },
  {
   "cell_type": "markdown",
   "metadata": {},
   "source": [
    "Run the following code to calculate mean absolute percent error (MAPE) by using the full `y_actual` and `y_predict` data sets. This metric calculates an absolute difference between each predicted and actual value and sums all the differences. Then it expresses that sum as a percent of the total of the actual values."
   ]
  },
  {
   "cell_type": "code",
   "execution_count": null,
   "metadata": {},
   "outputs": [],
   "source": [
    "sum_actuals = sum_errors = 0\n",
    "\n",
    "for actual_val, predict_val in zip(y_actual, y_predict):\n",
    "    abs_error = actual_val - predict_val\n",
    "    if abs_error < 0:\n",
    "        abs_error = abs_error * -1\n",
    "\n",
    "    sum_errors = sum_errors + abs_error\n",
    "    sum_actuals = sum_actuals + actual_val\n",
    "\n",
    "mean_abs_percent_error = sum_errors / sum_actuals\n",
    "print(\"Model MAPE:\")\n",
    "print(mean_abs_percent_error)\n",
    "print()\n",
    "print(\"Model Accuracy:\")\n",
    "print(1 - mean_abs_percent_error)"
   ]
  },
  {
   "cell_type": "markdown",
   "metadata": {},
   "source": [
    "From the two prediction accuracy metrics, you see that the model is fairly good at predicting taxi fares from the data set's features, typically within +- $4.00, and approximately 15% error. \n",
    "\n",
    "The traditional machine learning model development process is highly resource-intensive, and requires significant domain knowledge and time investment to run and compare the results of dozens of models. Using automated machine learning is a great way to rapidly test many different models for your scenario."
   ]
  },
  {
   "cell_type": "markdown",
   "metadata": {},
   "source": [
    "## Clean up resources"
   ]
  },
  {
   "cell_type": "markdown",
   "metadata": {},
   "source": [
    "Do not complete this section if you plan on running other Azure Machine Learning service tutorials."
   ]
  },
  {
   "cell_type": "markdown",
   "metadata": {},
   "source": [
    "### Stop the notebook VM"
   ]
  },
  {
   "cell_type": "markdown",
   "metadata": {},
   "source": [
    "If you used a cloud notebook server, stop the VM when you are not using it to reduce cost."
   ]
  },
  {
   "cell_type": "markdown",
   "metadata": {},
   "source": [
    "1. In your workspace, select **Compute**.\n",
    "1. Select the **Notebook VMs** tab in the compute page.\n",
    "1. From the list, select the VM.\n",
    "1. Select **Stop**.\n",
    "1. When you're ready to use the server again, select **Start**."
   ]
  },
  {
   "cell_type": "markdown",
   "metadata": {},
   "source": [
    "### Delete everything"
   ]
  },
  {
   "cell_type": "markdown",
   "metadata": {},
   "source": [
    "If you don't plan to use the resources you created, delete them, so you don't incur any charges."
   ]
  },
  {
   "cell_type": "markdown",
   "metadata": {},
   "source": [
    "1. In the Azure portal, select **Resource groups** on the far left.\n",
    "1. From the list, select the resource group you created.\n",
    "1. Select **Delete resource group**.\n",
    "1. Enter the resource group name. Then select **Delete**.\n",
    "\n",
    "You can also keep the resource group but delete a single workspace. Display the workspace properties and select **Delete**."
   ]
  },
  {
   "cell_type": "markdown",
   "metadata": {},
   "source": [
    "## Next steps"
   ]
  },
  {
   "cell_type": "markdown",
   "metadata": {},
   "source": [
    "In this automated machine learning tutorial, you did the following tasks:\n",
    "\n",
    "> * Configured a workspace and prepared data for an experiment.\n",
    "> * Trained by using an automated regression model locally with custom parameters.\n",
    "> * Explored and reviewed training results.\n",
    "\n",
    "[Deploy your model](https://docs.microsoft.com/azure/machine-learning/service/tutorial-deploy-models-with-aml) with Azure Machine Learning service."
   ]
  },
  {
   "cell_type": "code",
   "execution_count": null,
   "metadata": {},
   "outputs": [],
   "source": []
  }
 ],
 "metadata": {
  "authors": [
   {
    "name": "jeffshep"
   }
  ],
  "categories": [
   "tutorials"
  ],
  "kernel_info": {
   "name": "python3-azureml"
  },
  "kernelspec": {
   "display_name": "Python 3.6 - AzureML",
   "language": "python",
   "name": "python3-azureml"
  },
  "language_info": {
   "codemirror_mode": {
    "name": "ipython",
    "version": 3
   },
   "file_extension": ".py",
   "mimetype": "text/x-python",
   "name": "python",
   "nbconvert_exporter": "python",
   "pygments_lexer": "ipython3",
   "version": "3.6.9"
  },
  "msauthor": "trbye",
  "network_required": false,
  "nteract": {
   "version": "nteract-front-end@1.0.0"
  }
 },
 "nbformat": 4,
 "nbformat_minor": 4
}
